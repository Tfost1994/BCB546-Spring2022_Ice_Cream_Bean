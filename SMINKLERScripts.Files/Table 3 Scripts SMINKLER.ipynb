{
 "cells": [
  {
   "cell_type": "code",
   "execution_count": 1,
   "id": "f70b547d",
   "metadata": {},
   "outputs": [],
   "source": [
    "import pandas as pd"
   ]
  },
  {
   "cell_type": "markdown",
   "id": "ff6fa517",
   "metadata": {},
   "source": [
    "## Arabidopsis"
   ]
  },
  {
   "cell_type": "code",
   "execution_count": null,
   "id": "cc547bfd",
   "metadata": {},
   "outputs": [],
   "source": [
    "Supp_4_df = pd.read_excel (r'Supplemental_file_4[1].xls')"
   ]
  },
  {
   "cell_type": "code",
   "execution_count": null,
   "id": "1ed27e15",
   "metadata": {},
   "outputs": [],
   "source": [
    "Supp_4_df"
   ]
  },
  {
   "cell_type": "markdown",
   "id": "5b9beb0c",
   "metadata": {},
   "source": [
    "First tab from supplemental file 4 uploaded (Arabidopsis)"
   ]
  },
  {
   "cell_type": "code",
   "execution_count": null,
   "id": "dd1d71e3",
   "metadata": {},
   "outputs": [],
   "source": [
    "Sorted_transcript_data = Supp_4_df.groupby('Unnamed: 1')"
   ]
  },
  {
   "cell_type": "code",
   "execution_count": null,
   "id": "92bc1a67",
   "metadata": {},
   "outputs": [],
   "source": [
    "Sorted_transcript_data.describe()"
   ]
  },
  {
   "cell_type": "code",
   "execution_count": null,
   "id": "cb710c86",
   "metadata": {},
   "outputs": [],
   "source": [
    "(5+(4*5)+(3*12)+(2*35)+151)/204"
   ]
  },
  {
   "cell_type": "markdown",
   "id": "189fbacb",
   "metadata": {},
   "source": [
    "Number of transcripts per gene. 1.38 calculated here as compared to 1.4 that the authors recieved. Range is 1-5 as seen above in the sorted data."
   ]
  },
  {
   "cell_type": "code",
   "execution_count": null,
   "id": "56ecd1bf",
   "metadata": {},
   "outputs": [],
   "source": [
    "Sorted_exon_data = Supp_4_df.groupby('Unnamed: 2')"
   ]
  },
  {
   "cell_type": "code",
   "execution_count": null,
   "id": "ec7b1220",
   "metadata": {},
   "outputs": [],
   "source": [
    "Sorted_exon_data.describe()"
   ]
  },
  {
   "cell_type": "code",
   "execution_count": null,
   "id": "71e81966",
   "metadata": {},
   "outputs": [],
   "source": [
    "(48.3+34.7+30+29+24+20+(20*2)+18.5+18+17.5+(17*2)+(15*4)+(14.5*2)+(14*7)+13.5+(13*2)+(12*2)+(11*4)+(10*5)+9.5+9.3+8.7+(9*8)+(8.3*2)+(8*8)+(7.7*2)+7.5+(7*10)+6.3+(6.5*2)+6.2+(6*14)+(5.5*2)+(5*9)+4.3+(4*12)+2.7+(3*24)+(2.5*5)+(2*18)+(1.5*2)+(1*37))/204\n"
   ]
  },
  {
   "cell_type": "markdown",
   "id": "a2e61b5a",
   "metadata": {},
   "source": [
    "6.433 Exons per gene. Range is 1-48.3"
   ]
  },
  {
   "cell_type": "code",
   "execution_count": null,
   "id": "563a1310",
   "metadata": {},
   "outputs": [],
   "source": [
    "Sorted_Esize_data = Supp_4_df.groupby('Unnamed: 3')"
   ]
  },
  {
   "cell_type": "code",
   "execution_count": null,
   "id": "5a955764",
   "metadata": {},
   "outputs": [],
   "source": [
    "Sorted_Esize_data.describe()"
   ]
  },
  {
   "cell_type": "code",
   "execution_count": null,
   "id": "9e70e6bd",
   "metadata": {},
   "outputs": [],
   "source": [
    "Supp_4_df.drop(0)"
   ]
  },
  {
   "cell_type": "code",
   "execution_count": null,
   "id": "d61d703f",
   "metadata": {},
   "outputs": [],
   "source": [
    "Supp_4_copy"
   ]
  },
  {
   "cell_type": "code",
   "execution_count": null,
   "id": "38596412",
   "metadata": {},
   "outputs": [],
   "source": [
    "Supp_4_copy = Supp_4_df"
   ]
  },
  {
   "cell_type": "code",
   "execution_count": null,
   "id": "4eb2f9d2",
   "metadata": {},
   "outputs": [],
   "source": [
    "Supp_4_copy.drop('The structural features of Arabidopsis flowering genes', axis=1, inplace=True)"
   ]
  },
  {
   "cell_type": "code",
   "execution_count": null,
   "id": "e933090f",
   "metadata": {},
   "outputs": [],
   "source": [
    "Supp_4_copy_1= Supp_4_copy.drop(labels=0, axis=0)"
   ]
  },
  {
   "cell_type": "code",
   "execution_count": null,
   "id": "672bfa2c",
   "metadata": {},
   "outputs": [],
   "source": [
    "Supp_4_copy_1"
   ]
  },
  {
   "cell_type": "code",
   "execution_count": null,
   "id": "ad36cdfe",
   "metadata": {},
   "outputs": [],
   "source": [
    "Supp_4_df_num = Supp_4_copy_1.apply(pd.to_numeric)"
   ]
  },
  {
   "cell_type": "code",
   "execution_count": null,
   "id": "9c5fcf0c",
   "metadata": {},
   "outputs": [],
   "source": [
    "Supp_4_df_num"
   ]
  },
  {
   "cell_type": "code",
   "execution_count": null,
   "id": "9aa73c2d",
   "metadata": {},
   "outputs": [],
   "source": [
    "Supp_4_copy_1['Unnamed: 3'].mean()"
   ]
  },
  {
   "cell_type": "code",
   "execution_count": null,
   "id": "27f83bcb",
   "metadata": {},
   "outputs": [],
   "source": [
    "Supp_4_copy_1['Unnamed: 3'].min()"
   ]
  },
  {
   "cell_type": "code",
   "execution_count": null,
   "id": "d3e9f12e",
   "metadata": {},
   "outputs": [],
   "source": [
    "Supp_4_copy_1['Unnamed: 3'].max()"
   ]
  },
  {
   "cell_type": "markdown",
   "id": "066df0be",
   "metadata": {},
   "source": [
    "Exon average size is 466. Range is 79-4165. This agrees with the authors data."
   ]
  },
  {
   "cell_type": "code",
   "execution_count": null,
   "id": "4338172c",
   "metadata": {},
   "outputs": [],
   "source": [
    "Supp_4_copy_1['Unnamed: 4'].mean()"
   ]
  },
  {
   "cell_type": "code",
   "execution_count": null,
   "id": "95f295ee",
   "metadata": {},
   "outputs": [],
   "source": [
    "Supp_4_copy_1['Unnamed: 4'].max()"
   ]
  },
  {
   "cell_type": "code",
   "execution_count": null,
   "id": "1915cd54",
   "metadata": {},
   "outputs": [],
   "source": [
    "supp_4_desc = Supp_4_copy_1.sort_values('Unnamed: 4', ascending=False)"
   ]
  },
  {
   "cell_type": "markdown",
   "id": "26d131cd",
   "metadata": {},
   "source": [
    "Intron average size was 468.5bp and range was 78-2316 bp. I had to sort data in order to determine the minimum number since the authors ignored the 0 values for introns."
   ]
  },
  {
   "cell_type": "code",
   "execution_count": null,
   "id": "e99d3dbc",
   "metadata": {},
   "outputs": [],
   "source": [
    "supp_4_desc.iloc[160:165]"
   ]
  },
  {
   "cell_type": "code",
   "execution_count": null,
   "id": "5bc2666e",
   "metadata": {},
   "outputs": [],
   "source": [
    "for index, row in Supp_4_df_num.iterrows():\n",
    "    exon = row['Unnamed: 3']\n",
    "    numexon = row['Unnamed: 2']\n",
    "    if(pd.isna(exon) is False and pd.isna(intron) is False): \n",
    "        Supp_4_df_num.loc[index,'exon_total'] = exon * numexon"
   ]
  },
  {
   "cell_type": "code",
   "execution_count": null,
   "id": "5d9d5fc8",
   "metadata": {},
   "outputs": [],
   "source": [
    "for index, row in Supp_4_df_num.iterrows():\n",
    "    exon_total = row['exon_total']\n",
    "    intron = row['Unnamed: 4']\n",
    "    if(pd.isna(exon) is False and pd.isna(intron) is False): \n",
    "        Supp_4_df_num.loc[index,'exon_intron'] = exon_total + intron"
   ]
  },
  {
   "cell_type": "code",
   "execution_count": null,
   "id": "56ae15a0",
   "metadata": {
    "scrolled": true
   },
   "outputs": [],
   "source": [
    "Supp_4_df_num"
   ]
  },
  {
   "cell_type": "code",
   "execution_count": null,
   "id": "983b8608",
   "metadata": {},
   "outputs": [],
   "source": [
    "Supp_4_df_num['exon_intron'].mean()"
   ]
  },
  {
   "cell_type": "code",
   "execution_count": null,
   "id": "dff739f4",
   "metadata": {},
   "outputs": [],
   "source": [
    "Supp_4_df_num['exon_intron'].min()"
   ]
  },
  {
   "cell_type": "code",
   "execution_count": null,
   "id": "96e2dc63",
   "metadata": {},
   "outputs": [],
   "source": [
    "Supp_4_df_num['exon_intron'].max()"
   ]
  },
  {
   "cell_type": "markdown",
   "id": "00e02f47",
   "metadata": {},
   "source": [
    "After making two new column to calculated gene length, different numbers were calculated from what the authors provided. Exon_total is the length of exons * the number they appear per transcript to get their total length. Then, Exon_total was added to intron length to compute gene length. There was not a good description of how the authors calculated this value. \n",
    "Average: 2297bp\n",
    "Range: 79-11046.5bp"
   ]
  },
  {
   "cell_type": "code",
   "execution_count": null,
   "id": "d5df11de",
   "metadata": {},
   "outputs": [],
   "source": [
    "Supp_4_df_num['exon_total'].mean()"
   ]
  },
  {
   "cell_type": "code",
   "execution_count": null,
   "id": "7dca27d7",
   "metadata": {},
   "outputs": [],
   "source": [
    "Supp_4_df_num['exon_total'].max()"
   ]
  },
  {
   "cell_type": "code",
   "execution_count": null,
   "id": "bc5e6040",
   "metadata": {},
   "outputs": [],
   "source": [
    "Supp_4_df_num['exon_total'].min()"
   ]
  },
  {
   "cell_type": "markdown",
   "id": "49b52aae",
   "metadata": {},
   "source": [
    "Protein length was calculated by taking the number of exons multiplied by the average number per gene. \n",
    "Average:1828aa\n",
    "Range:79-10871.5aa\n",
    "These values are different than what was calculated by the authors. Again, there was no straightforward directions on how this was done. "
   ]
  },
  {
   "cell_type": "markdown",
   "id": "f72fba70",
   "metadata": {},
   "source": [
    "## Wheat"
   ]
  },
  {
   "cell_type": "code",
   "execution_count": null,
   "id": "8b79b3db",
   "metadata": {},
   "outputs": [],
   "source": [
    "import pandas as pd"
   ]
  },
  {
   "cell_type": "code",
   "execution_count": null,
   "id": "fb4b1867",
   "metadata": {},
   "outputs": [],
   "source": [
    "Wheat_Supp_4 = pd.read_excel (r'Supplemental_file_4[1].xls', sheet_name='Wheat')\n",
    "print (Wheat_Supp_4)"
   ]
  },
  {
   "cell_type": "code",
   "execution_count": null,
   "id": "c4d661f9",
   "metadata": {},
   "outputs": [],
   "source": [
    "Sorted_Wheat_transcript_data = Wheat_Supp_4.groupby('Unnamed: 1')"
   ]
  },
  {
   "cell_type": "code",
   "execution_count": null,
   "id": "b889fd4d",
   "metadata": {},
   "outputs": [],
   "source": [
    "Wheat_Supp_4['Unnamed: 1'].describe()"
   ]
  },
  {
   "cell_type": "code",
   "execution_count": null,
   "id": "1afc5915",
   "metadata": {},
   "outputs": [],
   "source": [
    "Sorted_Wheat_transcript_data = Wheat_Supp_4.groupby('Unnamed: 1')"
   ]
  },
  {
   "cell_type": "code",
   "execution_count": null,
   "id": "6672d2c8",
   "metadata": {},
   "outputs": [],
   "source": [
    "Sorted_Wheat_transcript_data.describe()"
   ]
  },
  {
   "cell_type": "markdown",
   "id": "ce2751b0",
   "metadata": {},
   "source": [
    "1 transcript per gene for Wheat with a range of 1-1."
   ]
  },
  {
   "cell_type": "code",
   "execution_count": null,
   "id": "e74d90cc",
   "metadata": {},
   "outputs": [],
   "source": [
    "Sorted_Wheat_exon_data = Wheat_Supp_4.groupby('Unnamed: 2')"
   ]
  },
  {
   "cell_type": "code",
   "execution_count": null,
   "id": "50295d49",
   "metadata": {},
   "outputs": [],
   "source": [
    "Sorted_Wheat_exon_data.describe()"
   ]
  },
  {
   "cell_type": "code",
   "execution_count": null,
   "id": "ff9bef82",
   "metadata": {},
   "outputs": [],
   "source": [
    "(42+35+34+31+29+27+(24*3)+22+21+(20*8)+(19*2)+(18*3)+(17*8)+153+(145*2)+(3*79)+(4*93)+(15*16)+(14*21)+(13*28)+(12*23)+(11*30)+(10*18)+(9*23)+(8*39)+(7*38)+(6*44)+(5*51))/833"
   ]
  },
  {
   "cell_type": "code",
   "execution_count": null,
   "id": "b2aea784",
   "metadata": {},
   "outputs": [],
   "source": [
    "Sorted_Wheat_exon_data['Unnamed: 2'].min()"
   ]
  },
  {
   "cell_type": "markdown",
   "id": "1a3f6f42",
   "metadata": {},
   "source": [
    "Average number of exons per gene was calculated to be 5.69 and the range was 1-42. Slightly different from the authors average exons per gene."
   ]
  },
  {
   "cell_type": "code",
   "execution_count": null,
   "id": "8d7fa241",
   "metadata": {},
   "outputs": [],
   "source": [
    "Sorted_Wheat_Esize_data = Wheat_Supp_4.groupby('Unnamed: 3')"
   ]
  },
  {
   "cell_type": "code",
   "execution_count": null,
   "id": "32809305",
   "metadata": {},
   "outputs": [],
   "source": [
    "Sorted_Wheat_Esize_data.describe()"
   ]
  },
  {
   "cell_type": "code",
   "execution_count": null,
   "id": "4eb67edc",
   "metadata": {},
   "outputs": [],
   "source": [
    "Wheat_Supp_4_copy = Wheat_Supp_4"
   ]
  },
  {
   "cell_type": "code",
   "execution_count": null,
   "id": "25eac4aa",
   "metadata": {},
   "outputs": [],
   "source": [
    "Wheat_Supp_4_copy"
   ]
  },
  {
   "cell_type": "code",
   "execution_count": null,
   "id": "29f79ffd",
   "metadata": {},
   "outputs": [],
   "source": [
    "Wheat_Supp_4_copy.drop('The structural features of wheat flowering genes', axis=1, inplace=True)"
   ]
  },
  {
   "cell_type": "code",
   "execution_count": null,
   "id": "54563bdd",
   "metadata": {},
   "outputs": [],
   "source": [
    "Wheat_Supp_4_copy_1= Wheat_Supp_4_copy.drop(labels=0, axis=0)"
   ]
  },
  {
   "cell_type": "code",
   "execution_count": null,
   "id": "1467d53b",
   "metadata": {},
   "outputs": [],
   "source": [
    "Wheat_Supp_4_copy_1"
   ]
  },
  {
   "cell_type": "code",
   "execution_count": null,
   "id": "e1c74c1f",
   "metadata": {},
   "outputs": [],
   "source": [
    "Wheat_Supp_4_df_num = Wheat_Supp_4_copy_1.apply(pd.to_numeric)"
   ]
  },
  {
   "cell_type": "code",
   "execution_count": null,
   "id": "a8ed28ce",
   "metadata": {},
   "outputs": [],
   "source": [
    "Wheat_Supp_4_df_num"
   ]
  },
  {
   "cell_type": "code",
   "execution_count": null,
   "id": "bf1f502b",
   "metadata": {},
   "outputs": [],
   "source": [
    "Wheat_Supp_4_copy_1['Unnamed: 3'].mean()"
   ]
  },
  {
   "cell_type": "code",
   "execution_count": null,
   "id": "dcc4a647",
   "metadata": {},
   "outputs": [],
   "source": [
    "Wheat_Supp_4_copy_1['Unnamed: 3'].min()"
   ]
  },
  {
   "cell_type": "code",
   "execution_count": null,
   "id": "d983b622",
   "metadata": {},
   "outputs": [],
   "source": [
    "Wheat_Supp_4_copy_1['Unnamed: 3'].max()"
   ]
  },
  {
   "cell_type": "markdown",
   "id": "571edf3c",
   "metadata": {},
   "source": [
    "The average exon size was 565bp with a range of 41.8-5550, agreeing with authors."
   ]
  },
  {
   "cell_type": "code",
   "execution_count": null,
   "id": "8ebe86be",
   "metadata": {},
   "outputs": [],
   "source": [
    "Wheat_Supp_4_copy_1['Unnamed: 4'].mean()"
   ]
  },
  {
   "cell_type": "code",
   "execution_count": null,
   "id": "7a2e1ddc",
   "metadata": {},
   "outputs": [],
   "source": [
    "Wheat_Supp_4_copy_1['Unnamed: 4'].max()"
   ]
  },
  {
   "cell_type": "code",
   "execution_count": null,
   "id": "8a7a529d",
   "metadata": {},
   "outputs": [],
   "source": [
    "Wheatsupp_4_desc = Wheat_Supp_4_copy_1.sort_values('Unnamed: 4', ascending=False)"
   ]
  },
  {
   "cell_type": "code",
   "execution_count": null,
   "id": "7f5be77d",
   "metadata": {},
   "outputs": [],
   "source": [
    "Wheatsupp_4_desc.iloc[675:685]"
   ]
  },
  {
   "cell_type": "markdown",
   "id": "549f8a2a",
   "metadata": {},
   "source": [
    "Average intron size was 923.66bp and a range of 58-7291bp, agreeing with authors."
   ]
  },
  {
   "cell_type": "code",
   "execution_count": null,
   "id": "f04bc822",
   "metadata": {},
   "outputs": [],
   "source": [
    "for index, row in Wheat_Supp_4_df_num.iterrows():\n",
    "    exon = row['Unnamed: 3']\n",
    "    numexon = row['Unnamed: 2']\n",
    "    if(pd.isna(exon) is False and pd.isna(numexon) is False): \n",
    "        Wheat_Supp_4_df_num.loc[index,'exon_total'] = exon * numexon"
   ]
  },
  {
   "cell_type": "code",
   "execution_count": null,
   "id": "51c25ef9",
   "metadata": {},
   "outputs": [],
   "source": [
    "for index, row in Wheat_Supp_4_df_num.iterrows():\n",
    "    exon_total = row['exon_total']\n",
    "    intron = row['Unnamed: 4']\n",
    "    if(pd.isna(exon_total) is False and pd.isna(intron) is False): \n",
    "        Wheat_Supp_4_df_num.loc[index,'exon_intron'] = exon_total + intron"
   ]
  },
  {
   "cell_type": "code",
   "execution_count": null,
   "id": "01ba18fe",
   "metadata": {},
   "outputs": [],
   "source": [
    "Wheat_Supp_4_df_num"
   ]
  },
  {
   "cell_type": "code",
   "execution_count": null,
   "id": "e7b4bb6c",
   "metadata": {},
   "outputs": [],
   "source": [
    "Wheat_Supp_4_df_num['exon_intron'].mean()"
   ]
  },
  {
   "cell_type": "code",
   "execution_count": null,
   "id": "f5b3ed92",
   "metadata": {},
   "outputs": [],
   "source": [
    "Wheat_Supp_4_df_num['exon_intron'].max()"
   ]
  },
  {
   "cell_type": "code",
   "execution_count": null,
   "id": "4eddeed2",
   "metadata": {},
   "outputs": [],
   "source": [
    "Wheat_Supp_4_df_num['exon_intron'].min()"
   ]
  },
  {
   "cell_type": "markdown",
   "id": "56a42a42",
   "metadata": {},
   "source": [
    "The average gene length for Wheat was calculated to be 2675, which is less than what the authors had published. The range was calculated to be between 158-12689bp, which is also less than what was expected. "
   ]
  },
  {
   "cell_type": "code",
   "execution_count": null,
   "id": "a4919d18",
   "metadata": {},
   "outputs": [],
   "source": [
    "Wheat_Supp_4_df_num['exon_total'].mean()"
   ]
  },
  {
   "cell_type": "code",
   "execution_count": null,
   "id": "ac95d8de",
   "metadata": {},
   "outputs": [],
   "source": [
    "Wheat_Supp_4_df_num['exon_total'].min()"
   ]
  },
  {
   "cell_type": "code",
   "execution_count": null,
   "id": "257dfce0",
   "metadata": {},
   "outputs": [],
   "source": [
    "Wheat_Supp_4_df_num['exon_total'].max()"
   ]
  },
  {
   "cell_type": "markdown",
   "id": "2c7b2b7c",
   "metadata": {},
   "source": [
    "Average protein length for wheat was calculated to be 1751aa with a range of 106-10363aa. This is also higher than what the authors had calculated. "
   ]
  },
  {
   "cell_type": "markdown",
   "id": "a1a13430",
   "metadata": {},
   "source": [
    "## Barley"
   ]
  },
  {
   "cell_type": "code",
   "execution_count": 5,
   "id": "8e53367b",
   "metadata": {},
   "outputs": [
    {
     "name": "stdout",
     "output_type": "stream",
     "text": [
      "    The structural features of barley flowering genes             Unnamed: 1  \\\n",
      "0                                              GeneID  Number of transcripts   \n",
      "1                                          MLOC_10022                      1   \n",
      "2                                          MLOC_10243                      2   \n",
      "3                                          MLOC_10435                      6   \n",
      "4                                          MLOC_10563                      2   \n",
      "..                                                ...                    ...   \n",
      "267                                          MLOC_824                     14   \n",
      "268                                         MLOC_8261                      1   \n",
      "269                                         MLOC_8289                      2   \n",
      "270                                         MLOC_8592                      1   \n",
      "271                                         MLOC_9834                      1   \n",
      "\n",
      "                  Unnamed: 2           Unnamed: 3             Unnamed: 4  \n",
      "0    Average number of exons  Average exon length  Average intron length  \n",
      "1                          8                178.1                  847.9  \n",
      "2                        1.5               2187.3                 1680.5  \n",
      "3                        9.8                300.6                  716.5  \n",
      "4                         11                  170                  552.9  \n",
      "..                       ...                  ...                    ...  \n",
      "267                      9.1                  212                  564.1  \n",
      "268                        1                 1405                      0  \n",
      "269                        4                666.1                 1064.6  \n",
      "270                        1                 1805                      0  \n",
      "271                        3               1213.3                  638.5  \n",
      "\n",
      "[272 rows x 5 columns]\n"
     ]
    }
   ],
   "source": [
    "Barley_Supp_4 = pd.read_excel (r'Supplemental_file_4[1].xls', sheet_name='Barley')\n",
    "print (Barley_Supp_4)"
   ]
  },
  {
   "cell_type": "code",
   "execution_count": 47,
   "id": "f3e67d18",
   "metadata": {},
   "outputs": [
    {
     "data": {
      "text/html": [
       "<div>\n",
       "<style scoped>\n",
       "    .dataframe tbody tr th:only-of-type {\n",
       "        vertical-align: middle;\n",
       "    }\n",
       "\n",
       "    .dataframe tbody tr th {\n",
       "        vertical-align: top;\n",
       "    }\n",
       "\n",
       "    .dataframe thead th {\n",
       "        text-align: right;\n",
       "    }\n",
       "</style>\n",
       "<table border=\"1\" class=\"dataframe\">\n",
       "  <thead>\n",
       "    <tr style=\"text-align: right;\">\n",
       "      <th></th>\n",
       "      <th>Unnamed: 1</th>\n",
       "      <th>Unnamed: 2</th>\n",
       "      <th>Unnamed: 3</th>\n",
       "      <th>Unnamed: 4</th>\n",
       "    </tr>\n",
       "  </thead>\n",
       "  <tbody>\n",
       "    <tr>\n",
       "      <th>0</th>\n",
       "      <td>Number of transcripts</td>\n",
       "      <td>Average number of exons</td>\n",
       "      <td>Average exon length</td>\n",
       "      <td>Average intron length</td>\n",
       "    </tr>\n",
       "    <tr>\n",
       "      <th>1</th>\n",
       "      <td>1</td>\n",
       "      <td>8</td>\n",
       "      <td>178.1</td>\n",
       "      <td>847.9</td>\n",
       "    </tr>\n",
       "    <tr>\n",
       "      <th>2</th>\n",
       "      <td>2</td>\n",
       "      <td>1.5</td>\n",
       "      <td>2187.3</td>\n",
       "      <td>1680.5</td>\n",
       "    </tr>\n",
       "    <tr>\n",
       "      <th>3</th>\n",
       "      <td>6</td>\n",
       "      <td>9.8</td>\n",
       "      <td>300.6</td>\n",
       "      <td>716.5</td>\n",
       "    </tr>\n",
       "    <tr>\n",
       "      <th>4</th>\n",
       "      <td>2</td>\n",
       "      <td>11</td>\n",
       "      <td>170</td>\n",
       "      <td>552.9</td>\n",
       "    </tr>\n",
       "    <tr>\n",
       "      <th>...</th>\n",
       "      <td>...</td>\n",
       "      <td>...</td>\n",
       "      <td>...</td>\n",
       "      <td>...</td>\n",
       "    </tr>\n",
       "    <tr>\n",
       "      <th>267</th>\n",
       "      <td>14</td>\n",
       "      <td>9.1</td>\n",
       "      <td>212</td>\n",
       "      <td>564.1</td>\n",
       "    </tr>\n",
       "    <tr>\n",
       "      <th>268</th>\n",
       "      <td>1</td>\n",
       "      <td>1</td>\n",
       "      <td>1405</td>\n",
       "      <td>0</td>\n",
       "    </tr>\n",
       "    <tr>\n",
       "      <th>269</th>\n",
       "      <td>2</td>\n",
       "      <td>4</td>\n",
       "      <td>666.1</td>\n",
       "      <td>1064.6</td>\n",
       "    </tr>\n",
       "    <tr>\n",
       "      <th>270</th>\n",
       "      <td>1</td>\n",
       "      <td>1</td>\n",
       "      <td>1805</td>\n",
       "      <td>0</td>\n",
       "    </tr>\n",
       "    <tr>\n",
       "      <th>271</th>\n",
       "      <td>1</td>\n",
       "      <td>3</td>\n",
       "      <td>1213.3</td>\n",
       "      <td>638.5</td>\n",
       "    </tr>\n",
       "  </tbody>\n",
       "</table>\n",
       "<p>272 rows × 4 columns</p>\n",
       "</div>"
      ],
      "text/plain": [
       "                Unnamed: 1               Unnamed: 2           Unnamed: 3  \\\n",
       "0    Number of transcripts  Average number of exons  Average exon length   \n",
       "1                        1                        8                178.1   \n",
       "2                        2                      1.5               2187.3   \n",
       "3                        6                      9.8                300.6   \n",
       "4                        2                       11                  170   \n",
       "..                     ...                      ...                  ...   \n",
       "267                     14                      9.1                  212   \n",
       "268                      1                        1                 1405   \n",
       "269                      2                        4                666.1   \n",
       "270                      1                        1                 1805   \n",
       "271                      1                        3               1213.3   \n",
       "\n",
       "                Unnamed: 4  \n",
       "0    Average intron length  \n",
       "1                    847.9  \n",
       "2                   1680.5  \n",
       "3                    716.5  \n",
       "4                    552.9  \n",
       "..                     ...  \n",
       "267                  564.1  \n",
       "268                      0  \n",
       "269                 1064.6  \n",
       "270                      0  \n",
       "271                  638.5  \n",
       "\n",
       "[272 rows x 4 columns]"
      ]
     },
     "execution_count": 47,
     "metadata": {},
     "output_type": "execute_result"
    }
   ],
   "source": [
    "Barley_Supp_4"
   ]
  },
  {
   "cell_type": "code",
   "execution_count": 6,
   "id": "d1e2893c",
   "metadata": {},
   "outputs": [],
   "source": [
    "Sorted_Barley_transcript_data = Barley_Supp_4.groupby('Unnamed: 1')"
   ]
  },
  {
   "cell_type": "code",
   "execution_count": 7,
   "id": "4ed79463",
   "metadata": {},
   "outputs": [
    {
     "data": {
      "text/plain": [
       "count     272\n",
       "unique     15\n",
       "top         1\n",
       "freq       87\n",
       "Name: Unnamed: 1, dtype: int64"
      ]
     },
     "execution_count": 7,
     "metadata": {},
     "output_type": "execute_result"
    }
   ],
   "source": [
    "Barley_Supp_4['Unnamed: 1'].describe()"
   ]
  },
  {
   "cell_type": "code",
   "execution_count": 14,
   "id": "0349f061",
   "metadata": {},
   "outputs": [],
   "source": [
    "Barley_Supp_4_copy = Barley_Supp_4"
   ]
  },
  {
   "cell_type": "code",
   "execution_count": 24,
   "id": "202aed0f",
   "metadata": {},
   "outputs": [
    {
     "data": {
      "text/html": [
       "<div>\n",
       "<style scoped>\n",
       "    .dataframe tbody tr th:only-of-type {\n",
       "        vertical-align: middle;\n",
       "    }\n",
       "\n",
       "    .dataframe tbody tr th {\n",
       "        vertical-align: top;\n",
       "    }\n",
       "\n",
       "    .dataframe thead th {\n",
       "        text-align: right;\n",
       "    }\n",
       "</style>\n",
       "<table border=\"1\" class=\"dataframe\">\n",
       "  <thead>\n",
       "    <tr style=\"text-align: right;\">\n",
       "      <th></th>\n",
       "      <th>Unnamed: 1</th>\n",
       "      <th>Unnamed: 2</th>\n",
       "      <th>Unnamed: 3</th>\n",
       "      <th>Unnamed: 4</th>\n",
       "    </tr>\n",
       "  </thead>\n",
       "  <tbody>\n",
       "    <tr>\n",
       "      <th>0</th>\n",
       "      <td>Number of transcripts</td>\n",
       "      <td>Average number of exons</td>\n",
       "      <td>Average exon length</td>\n",
       "      <td>Average intron length</td>\n",
       "    </tr>\n",
       "    <tr>\n",
       "      <th>1</th>\n",
       "      <td>1</td>\n",
       "      <td>8</td>\n",
       "      <td>178.1</td>\n",
       "      <td>847.9</td>\n",
       "    </tr>\n",
       "    <tr>\n",
       "      <th>2</th>\n",
       "      <td>2</td>\n",
       "      <td>1.5</td>\n",
       "      <td>2187.3</td>\n",
       "      <td>1680.5</td>\n",
       "    </tr>\n",
       "    <tr>\n",
       "      <th>3</th>\n",
       "      <td>6</td>\n",
       "      <td>9.8</td>\n",
       "      <td>300.6</td>\n",
       "      <td>716.5</td>\n",
       "    </tr>\n",
       "    <tr>\n",
       "      <th>4</th>\n",
       "      <td>2</td>\n",
       "      <td>11</td>\n",
       "      <td>170</td>\n",
       "      <td>552.9</td>\n",
       "    </tr>\n",
       "    <tr>\n",
       "      <th>...</th>\n",
       "      <td>...</td>\n",
       "      <td>...</td>\n",
       "      <td>...</td>\n",
       "      <td>...</td>\n",
       "    </tr>\n",
       "    <tr>\n",
       "      <th>267</th>\n",
       "      <td>14</td>\n",
       "      <td>9.1</td>\n",
       "      <td>212</td>\n",
       "      <td>564.1</td>\n",
       "    </tr>\n",
       "    <tr>\n",
       "      <th>268</th>\n",
       "      <td>1</td>\n",
       "      <td>1</td>\n",
       "      <td>1405</td>\n",
       "      <td>0</td>\n",
       "    </tr>\n",
       "    <tr>\n",
       "      <th>269</th>\n",
       "      <td>2</td>\n",
       "      <td>4</td>\n",
       "      <td>666.1</td>\n",
       "      <td>1064.6</td>\n",
       "    </tr>\n",
       "    <tr>\n",
       "      <th>270</th>\n",
       "      <td>1</td>\n",
       "      <td>1</td>\n",
       "      <td>1805</td>\n",
       "      <td>0</td>\n",
       "    </tr>\n",
       "    <tr>\n",
       "      <th>271</th>\n",
       "      <td>1</td>\n",
       "      <td>3</td>\n",
       "      <td>1213.3</td>\n",
       "      <td>638.5</td>\n",
       "    </tr>\n",
       "  </tbody>\n",
       "</table>\n",
       "<p>272 rows × 4 columns</p>\n",
       "</div>"
      ],
      "text/plain": [
       "                Unnamed: 1               Unnamed: 2           Unnamed: 3  \\\n",
       "0    Number of transcripts  Average number of exons  Average exon length   \n",
       "1                        1                        8                178.1   \n",
       "2                        2                      1.5               2187.3   \n",
       "3                        6                      9.8                300.6   \n",
       "4                        2                       11                  170   \n",
       "..                     ...                      ...                  ...   \n",
       "267                     14                      9.1                  212   \n",
       "268                      1                        1                 1405   \n",
       "269                      2                        4                666.1   \n",
       "270                      1                        1                 1805   \n",
       "271                      1                        3               1213.3   \n",
       "\n",
       "                Unnamed: 4  \n",
       "0    Average intron length  \n",
       "1                    847.9  \n",
       "2                   1680.5  \n",
       "3                    716.5  \n",
       "4                    552.9  \n",
       "..                     ...  \n",
       "267                  564.1  \n",
       "268                      0  \n",
       "269                 1064.6  \n",
       "270                      0  \n",
       "271                  638.5  \n",
       "\n",
       "[272 rows x 4 columns]"
      ]
     },
     "execution_count": 24,
     "metadata": {},
     "output_type": "execute_result"
    }
   ],
   "source": [
    "Barley_Supp_4_copy"
   ]
  },
  {
   "cell_type": "code",
   "execution_count": 19,
   "id": "8ec40285",
   "metadata": {},
   "outputs": [
    {
     "data": {
      "text/html": [
       "<div>\n",
       "<style scoped>\n",
       "    .dataframe tbody tr th:only-of-type {\n",
       "        vertical-align: middle;\n",
       "    }\n",
       "\n",
       "    .dataframe tbody tr th {\n",
       "        vertical-align: top;\n",
       "    }\n",
       "\n",
       "    .dataframe thead th {\n",
       "        text-align: right;\n",
       "    }\n",
       "</style>\n",
       "<table border=\"1\" class=\"dataframe\">\n",
       "  <thead>\n",
       "    <tr style=\"text-align: right;\">\n",
       "      <th></th>\n",
       "      <th>The structural features of barley flowering genes</th>\n",
       "      <th>Unnamed: 1</th>\n",
       "      <th>Unnamed: 2</th>\n",
       "      <th>Unnamed: 3</th>\n",
       "      <th>Unnamed: 4</th>\n",
       "    </tr>\n",
       "  </thead>\n",
       "  <tbody>\n",
       "    <tr>\n",
       "      <th>1</th>\n",
       "      <td>MLOC_10022</td>\n",
       "      <td>1</td>\n",
       "      <td>8</td>\n",
       "      <td>178.1</td>\n",
       "      <td>847.9</td>\n",
       "    </tr>\n",
       "    <tr>\n",
       "      <th>2</th>\n",
       "      <td>MLOC_10243</td>\n",
       "      <td>2</td>\n",
       "      <td>1.5</td>\n",
       "      <td>2187.3</td>\n",
       "      <td>1680.5</td>\n",
       "    </tr>\n",
       "    <tr>\n",
       "      <th>3</th>\n",
       "      <td>MLOC_10435</td>\n",
       "      <td>6</td>\n",
       "      <td>9.8</td>\n",
       "      <td>300.6</td>\n",
       "      <td>716.5</td>\n",
       "    </tr>\n",
       "    <tr>\n",
       "      <th>4</th>\n",
       "      <td>MLOC_10563</td>\n",
       "      <td>2</td>\n",
       "      <td>11</td>\n",
       "      <td>170</td>\n",
       "      <td>552.9</td>\n",
       "    </tr>\n",
       "    <tr>\n",
       "      <th>5</th>\n",
       "      <td>MLOC_10658</td>\n",
       "      <td>1</td>\n",
       "      <td>7</td>\n",
       "      <td>278.3</td>\n",
       "      <td>668.3</td>\n",
       "    </tr>\n",
       "    <tr>\n",
       "      <th>...</th>\n",
       "      <td>...</td>\n",
       "      <td>...</td>\n",
       "      <td>...</td>\n",
       "      <td>...</td>\n",
       "      <td>...</td>\n",
       "    </tr>\n",
       "    <tr>\n",
       "      <th>267</th>\n",
       "      <td>MLOC_824</td>\n",
       "      <td>14</td>\n",
       "      <td>9.1</td>\n",
       "      <td>212</td>\n",
       "      <td>564.1</td>\n",
       "    </tr>\n",
       "    <tr>\n",
       "      <th>268</th>\n",
       "      <td>MLOC_8261</td>\n",
       "      <td>1</td>\n",
       "      <td>1</td>\n",
       "      <td>1405</td>\n",
       "      <td>0</td>\n",
       "    </tr>\n",
       "    <tr>\n",
       "      <th>269</th>\n",
       "      <td>MLOC_8289</td>\n",
       "      <td>2</td>\n",
       "      <td>4</td>\n",
       "      <td>666.1</td>\n",
       "      <td>1064.6</td>\n",
       "    </tr>\n",
       "    <tr>\n",
       "      <th>270</th>\n",
       "      <td>MLOC_8592</td>\n",
       "      <td>1</td>\n",
       "      <td>1</td>\n",
       "      <td>1805</td>\n",
       "      <td>0</td>\n",
       "    </tr>\n",
       "    <tr>\n",
       "      <th>271</th>\n",
       "      <td>MLOC_9834</td>\n",
       "      <td>1</td>\n",
       "      <td>3</td>\n",
       "      <td>1213.3</td>\n",
       "      <td>638.5</td>\n",
       "    </tr>\n",
       "  </tbody>\n",
       "</table>\n",
       "<p>271 rows × 5 columns</p>\n",
       "</div>"
      ],
      "text/plain": [
       "    The structural features of barley flowering genes Unnamed: 1 Unnamed: 2  \\\n",
       "1                                          MLOC_10022          1          8   \n",
       "2                                          MLOC_10243          2        1.5   \n",
       "3                                          MLOC_10435          6        9.8   \n",
       "4                                          MLOC_10563          2         11   \n",
       "5                                          MLOC_10658          1          7   \n",
       "..                                                ...        ...        ...   \n",
       "267                                          MLOC_824         14        9.1   \n",
       "268                                         MLOC_8261          1          1   \n",
       "269                                         MLOC_8289          2          4   \n",
       "270                                         MLOC_8592          1          1   \n",
       "271                                         MLOC_9834          1          3   \n",
       "\n",
       "    Unnamed: 3 Unnamed: 4  \n",
       "1        178.1      847.9  \n",
       "2       2187.3     1680.5  \n",
       "3        300.6      716.5  \n",
       "4          170      552.9  \n",
       "5        278.3      668.3  \n",
       "..         ...        ...  \n",
       "267        212      564.1  \n",
       "268       1405          0  \n",
       "269      666.1     1064.6  \n",
       "270       1805          0  \n",
       "271     1213.3      638.5  \n",
       "\n",
       "[271 rows x 5 columns]"
      ]
     },
     "execution_count": 19,
     "metadata": {},
     "output_type": "execute_result"
    }
   ],
   "source": [
    "Barley_Supp_4_copy_1"
   ]
  },
  {
   "cell_type": "code",
   "execution_count": 27,
   "id": "4d3b704d",
   "metadata": {},
   "outputs": [],
   "source": [
    "Barley_Supp_4_copy_1= Barley_Supp_4_copy.drop(labels=0, axis=0)"
   ]
  },
  {
   "cell_type": "code",
   "execution_count": 34,
   "id": "0f243bde",
   "metadata": {},
   "outputs": [],
   "source": [
    "Barley_Supp_4_df_num = Barley_Supp_4_copy_1.apply(pd.to_numeric)"
   ]
  },
  {
   "cell_type": "code",
   "execution_count": 35,
   "id": "c6faf43f",
   "metadata": {},
   "outputs": [
    {
     "data": {
      "text/html": [
       "<div>\n",
       "<style scoped>\n",
       "    .dataframe tbody tr th:only-of-type {\n",
       "        vertical-align: middle;\n",
       "    }\n",
       "\n",
       "    .dataframe tbody tr th {\n",
       "        vertical-align: top;\n",
       "    }\n",
       "\n",
       "    .dataframe thead th {\n",
       "        text-align: right;\n",
       "    }\n",
       "</style>\n",
       "<table border=\"1\" class=\"dataframe\">\n",
       "  <thead>\n",
       "    <tr style=\"text-align: right;\">\n",
       "      <th></th>\n",
       "      <th>Unnamed: 1</th>\n",
       "      <th>Unnamed: 2</th>\n",
       "      <th>Unnamed: 3</th>\n",
       "      <th>Unnamed: 4</th>\n",
       "    </tr>\n",
       "  </thead>\n",
       "  <tbody>\n",
       "    <tr>\n",
       "      <th>1</th>\n",
       "      <td>1</td>\n",
       "      <td>8.0</td>\n",
       "      <td>178.1</td>\n",
       "      <td>847.9</td>\n",
       "    </tr>\n",
       "    <tr>\n",
       "      <th>2</th>\n",
       "      <td>2</td>\n",
       "      <td>1.5</td>\n",
       "      <td>2187.3</td>\n",
       "      <td>1680.5</td>\n",
       "    </tr>\n",
       "    <tr>\n",
       "      <th>3</th>\n",
       "      <td>6</td>\n",
       "      <td>9.8</td>\n",
       "      <td>300.6</td>\n",
       "      <td>716.5</td>\n",
       "    </tr>\n",
       "    <tr>\n",
       "      <th>4</th>\n",
       "      <td>2</td>\n",
       "      <td>11.0</td>\n",
       "      <td>170.0</td>\n",
       "      <td>552.9</td>\n",
       "    </tr>\n",
       "    <tr>\n",
       "      <th>5</th>\n",
       "      <td>1</td>\n",
       "      <td>7.0</td>\n",
       "      <td>278.3</td>\n",
       "      <td>668.3</td>\n",
       "    </tr>\n",
       "    <tr>\n",
       "      <th>...</th>\n",
       "      <td>...</td>\n",
       "      <td>...</td>\n",
       "      <td>...</td>\n",
       "      <td>...</td>\n",
       "    </tr>\n",
       "    <tr>\n",
       "      <th>267</th>\n",
       "      <td>14</td>\n",
       "      <td>9.1</td>\n",
       "      <td>212.0</td>\n",
       "      <td>564.1</td>\n",
       "    </tr>\n",
       "    <tr>\n",
       "      <th>268</th>\n",
       "      <td>1</td>\n",
       "      <td>1.0</td>\n",
       "      <td>1405.0</td>\n",
       "      <td>0.0</td>\n",
       "    </tr>\n",
       "    <tr>\n",
       "      <th>269</th>\n",
       "      <td>2</td>\n",
       "      <td>4.0</td>\n",
       "      <td>666.1</td>\n",
       "      <td>1064.6</td>\n",
       "    </tr>\n",
       "    <tr>\n",
       "      <th>270</th>\n",
       "      <td>1</td>\n",
       "      <td>1.0</td>\n",
       "      <td>1805.0</td>\n",
       "      <td>0.0</td>\n",
       "    </tr>\n",
       "    <tr>\n",
       "      <th>271</th>\n",
       "      <td>1</td>\n",
       "      <td>3.0</td>\n",
       "      <td>1213.3</td>\n",
       "      <td>638.5</td>\n",
       "    </tr>\n",
       "  </tbody>\n",
       "</table>\n",
       "<p>271 rows × 4 columns</p>\n",
       "</div>"
      ],
      "text/plain": [
       "     Unnamed: 1  Unnamed: 2  Unnamed: 3  Unnamed: 4\n",
       "1             1         8.0       178.1       847.9\n",
       "2             2         1.5      2187.3      1680.5\n",
       "3             6         9.8       300.6       716.5\n",
       "4             2        11.0       170.0       552.9\n",
       "5             1         7.0       278.3       668.3\n",
       "..          ...         ...         ...         ...\n",
       "267          14         9.1       212.0       564.1\n",
       "268           1         1.0      1405.0         0.0\n",
       "269           2         4.0       666.1      1064.6\n",
       "270           1         1.0      1805.0         0.0\n",
       "271           1         3.0      1213.3       638.5\n",
       "\n",
       "[271 rows x 4 columns]"
      ]
     },
     "execution_count": 35,
     "metadata": {},
     "output_type": "execute_result"
    }
   ],
   "source": [
    "Barley_Supp_4_df_num"
   ]
  },
  {
   "cell_type": "code",
   "execution_count": 41,
   "id": "75f2e135",
   "metadata": {},
   "outputs": [],
   "source": [
    "Sorted_Barley_transcript_numdata = Barley_Supp_4_df_num.groupby('Unnamed: 1')"
   ]
  },
  {
   "cell_type": "code",
   "execution_count": 42,
   "id": "ab9328fd",
   "metadata": {},
   "outputs": [
    {
     "data": {
      "text/html": [
       "<div>\n",
       "<style scoped>\n",
       "    .dataframe tbody tr th:only-of-type {\n",
       "        vertical-align: middle;\n",
       "    }\n",
       "\n",
       "    .dataframe tbody tr th {\n",
       "        vertical-align: top;\n",
       "    }\n",
       "\n",
       "    .dataframe thead tr th {\n",
       "        text-align: left;\n",
       "    }\n",
       "\n",
       "    .dataframe thead tr:last-of-type th {\n",
       "        text-align: right;\n",
       "    }\n",
       "</style>\n",
       "<table border=\"1\" class=\"dataframe\">\n",
       "  <thead>\n",
       "    <tr>\n",
       "      <th></th>\n",
       "      <th colspan=\"8\" halign=\"left\">Unnamed: 2</th>\n",
       "      <th colspan=\"5\" halign=\"left\">Unnamed: 3</th>\n",
       "      <th colspan=\"8\" halign=\"left\">Unnamed: 4</th>\n",
       "    </tr>\n",
       "    <tr>\n",
       "      <th></th>\n",
       "      <th>count</th>\n",
       "      <th>mean</th>\n",
       "      <th>std</th>\n",
       "      <th>min</th>\n",
       "      <th>25%</th>\n",
       "      <th>50%</th>\n",
       "      <th>75%</th>\n",
       "      <th>max</th>\n",
       "      <th>count</th>\n",
       "      <th>mean</th>\n",
       "      <th>...</th>\n",
       "      <th>75%</th>\n",
       "      <th>max</th>\n",
       "      <th>count</th>\n",
       "      <th>mean</th>\n",
       "      <th>std</th>\n",
       "      <th>min</th>\n",
       "      <th>25%</th>\n",
       "      <th>50%</th>\n",
       "      <th>75%</th>\n",
       "      <th>max</th>\n",
       "    </tr>\n",
       "    <tr>\n",
       "      <th>Unnamed: 1</th>\n",
       "      <th></th>\n",
       "      <th></th>\n",
       "      <th></th>\n",
       "      <th></th>\n",
       "      <th></th>\n",
       "      <th></th>\n",
       "      <th></th>\n",
       "      <th></th>\n",
       "      <th></th>\n",
       "      <th></th>\n",
       "      <th></th>\n",
       "      <th></th>\n",
       "      <th></th>\n",
       "      <th></th>\n",
       "      <th></th>\n",
       "      <th></th>\n",
       "      <th></th>\n",
       "      <th></th>\n",
       "      <th></th>\n",
       "      <th></th>\n",
       "      <th></th>\n",
       "    </tr>\n",
       "  </thead>\n",
       "  <tbody>\n",
       "    <tr>\n",
       "      <th>1</th>\n",
       "      <td>87.0</td>\n",
       "      <td>3.126437</td>\n",
       "      <td>3.392209</td>\n",
       "      <td>1.0</td>\n",
       "      <td>1.000</td>\n",
       "      <td>2.00</td>\n",
       "      <td>4.000</td>\n",
       "      <td>17.0</td>\n",
       "      <td>87.0</td>\n",
       "      <td>975.332184</td>\n",
       "      <td>...</td>\n",
       "      <td>1427.000</td>\n",
       "      <td>5122.0</td>\n",
       "      <td>87.0</td>\n",
       "      <td>532.688506</td>\n",
       "      <td>1009.634781</td>\n",
       "      <td>0.0</td>\n",
       "      <td>0.000</td>\n",
       "      <td>98.00</td>\n",
       "      <td>653.300</td>\n",
       "      <td>5912.0</td>\n",
       "    </tr>\n",
       "    <tr>\n",
       "      <th>2</th>\n",
       "      <td>79.0</td>\n",
       "      <td>3.645570</td>\n",
       "      <td>3.325457</td>\n",
       "      <td>1.5</td>\n",
       "      <td>1.500</td>\n",
       "      <td>2.00</td>\n",
       "      <td>4.250</td>\n",
       "      <td>16.5</td>\n",
       "      <td>79.0</td>\n",
       "      <td>1084.369620</td>\n",
       "      <td>...</td>\n",
       "      <td>1602.050</td>\n",
       "      <td>3405.0</td>\n",
       "      <td>79.0</td>\n",
       "      <td>934.868354</td>\n",
       "      <td>757.755451</td>\n",
       "      <td>43.5</td>\n",
       "      <td>210.000</td>\n",
       "      <td>820.70</td>\n",
       "      <td>1534.750</td>\n",
       "      <td>2854.0</td>\n",
       "    </tr>\n",
       "    <tr>\n",
       "      <th>3</th>\n",
       "      <td>40.0</td>\n",
       "      <td>4.585000</td>\n",
       "      <td>3.468063</td>\n",
       "      <td>1.3</td>\n",
       "      <td>1.925</td>\n",
       "      <td>3.00</td>\n",
       "      <td>6.700</td>\n",
       "      <td>13.7</td>\n",
       "      <td>40.0</td>\n",
       "      <td>860.422500</td>\n",
       "      <td>...</td>\n",
       "      <td>1156.625</td>\n",
       "      <td>3072.5</td>\n",
       "      <td>40.0</td>\n",
       "      <td>1177.022500</td>\n",
       "      <td>786.636446</td>\n",
       "      <td>93.4</td>\n",
       "      <td>587.625</td>\n",
       "      <td>1106.90</td>\n",
       "      <td>1523.150</td>\n",
       "      <td>4211.5</td>\n",
       "    </tr>\n",
       "    <tr>\n",
       "      <th>4</th>\n",
       "      <td>23.0</td>\n",
       "      <td>6.882609</td>\n",
       "      <td>4.280150</td>\n",
       "      <td>1.5</td>\n",
       "      <td>2.900</td>\n",
       "      <td>8.00</td>\n",
       "      <td>10.000</td>\n",
       "      <td>15.0</td>\n",
       "      <td>23.0</td>\n",
       "      <td>526.065217</td>\n",
       "      <td>...</td>\n",
       "      <td>707.150</td>\n",
       "      <td>1747.1</td>\n",
       "      <td>23.0</td>\n",
       "      <td>940.078261</td>\n",
       "      <td>632.456992</td>\n",
       "      <td>50.2</td>\n",
       "      <td>504.500</td>\n",
       "      <td>782.90</td>\n",
       "      <td>1100.200</td>\n",
       "      <td>2608.9</td>\n",
       "    </tr>\n",
       "    <tr>\n",
       "      <th>5</th>\n",
       "      <td>18.0</td>\n",
       "      <td>7.344444</td>\n",
       "      <td>4.493030</td>\n",
       "      <td>1.8</td>\n",
       "      <td>3.900</td>\n",
       "      <td>7.00</td>\n",
       "      <td>9.400</td>\n",
       "      <td>20.2</td>\n",
       "      <td>18.0</td>\n",
       "      <td>481.838889</td>\n",
       "      <td>...</td>\n",
       "      <td>658.575</td>\n",
       "      <td>1731.4</td>\n",
       "      <td>18.0</td>\n",
       "      <td>1003.333333</td>\n",
       "      <td>634.656835</td>\n",
       "      <td>148.2</td>\n",
       "      <td>593.425</td>\n",
       "      <td>843.30</td>\n",
       "      <td>1191.050</td>\n",
       "      <td>2867.1</td>\n",
       "    </tr>\n",
       "    <tr>\n",
       "      <th>6</th>\n",
       "      <td>9.0</td>\n",
       "      <td>7.255556</td>\n",
       "      <td>4.626584</td>\n",
       "      <td>2.2</td>\n",
       "      <td>3.200</td>\n",
       "      <td>7.70</td>\n",
       "      <td>9.800</td>\n",
       "      <td>15.3</td>\n",
       "      <td>9.0</td>\n",
       "      <td>620.744444</td>\n",
       "      <td>...</td>\n",
       "      <td>1113.100</td>\n",
       "      <td>1491.8</td>\n",
       "      <td>9.0</td>\n",
       "      <td>1109.755556</td>\n",
       "      <td>395.019231</td>\n",
       "      <td>607.5</td>\n",
       "      <td>767.000</td>\n",
       "      <td>1062.00</td>\n",
       "      <td>1384.200</td>\n",
       "      <td>1793.0</td>\n",
       "    </tr>\n",
       "    <tr>\n",
       "      <th>7</th>\n",
       "      <td>5.0</td>\n",
       "      <td>7.980000</td>\n",
       "      <td>6.961106</td>\n",
       "      <td>2.9</td>\n",
       "      <td>3.100</td>\n",
       "      <td>3.70</td>\n",
       "      <td>11.600</td>\n",
       "      <td>18.6</td>\n",
       "      <td>5.0</td>\n",
       "      <td>508.180000</td>\n",
       "      <td>...</td>\n",
       "      <td>445.400</td>\n",
       "      <td>1313.0</td>\n",
       "      <td>5.0</td>\n",
       "      <td>745.400000</td>\n",
       "      <td>384.936027</td>\n",
       "      <td>399.0</td>\n",
       "      <td>425.300</td>\n",
       "      <td>583.10</td>\n",
       "      <td>1144.800</td>\n",
       "      <td>1174.8</td>\n",
       "    </tr>\n",
       "    <tr>\n",
       "      <th>8</th>\n",
       "      <td>1.0</td>\n",
       "      <td>13.200000</td>\n",
       "      <td>NaN</td>\n",
       "      <td>13.2</td>\n",
       "      <td>13.200</td>\n",
       "      <td>13.20</td>\n",
       "      <td>13.200</td>\n",
       "      <td>13.2</td>\n",
       "      <td>1.0</td>\n",
       "      <td>242.700000</td>\n",
       "      <td>...</td>\n",
       "      <td>242.700</td>\n",
       "      <td>242.7</td>\n",
       "      <td>1.0</td>\n",
       "      <td>752.400000</td>\n",
       "      <td>NaN</td>\n",
       "      <td>752.4</td>\n",
       "      <td>752.400</td>\n",
       "      <td>752.40</td>\n",
       "      <td>752.400</td>\n",
       "      <td>752.4</td>\n",
       "    </tr>\n",
       "    <tr>\n",
       "      <th>9</th>\n",
       "      <td>1.0</td>\n",
       "      <td>8.200000</td>\n",
       "      <td>NaN</td>\n",
       "      <td>8.2</td>\n",
       "      <td>8.200</td>\n",
       "      <td>8.20</td>\n",
       "      <td>8.200</td>\n",
       "      <td>8.2</td>\n",
       "      <td>1.0</td>\n",
       "      <td>159.100000</td>\n",
       "      <td>...</td>\n",
       "      <td>159.100</td>\n",
       "      <td>159.1</td>\n",
       "      <td>1.0</td>\n",
       "      <td>674.200000</td>\n",
       "      <td>NaN</td>\n",
       "      <td>674.2</td>\n",
       "      <td>674.200</td>\n",
       "      <td>674.20</td>\n",
       "      <td>674.200</td>\n",
       "      <td>674.2</td>\n",
       "    </tr>\n",
       "    <tr>\n",
       "      <th>10</th>\n",
       "      <td>1.0</td>\n",
       "      <td>3.800000</td>\n",
       "      <td>NaN</td>\n",
       "      <td>3.8</td>\n",
       "      <td>3.800</td>\n",
       "      <td>3.80</td>\n",
       "      <td>3.800</td>\n",
       "      <td>3.8</td>\n",
       "      <td>1.0</td>\n",
       "      <td>988.100000</td>\n",
       "      <td>...</td>\n",
       "      <td>988.100</td>\n",
       "      <td>988.1</td>\n",
       "      <td>1.0</td>\n",
       "      <td>1002.500000</td>\n",
       "      <td>NaN</td>\n",
       "      <td>1002.5</td>\n",
       "      <td>1002.500</td>\n",
       "      <td>1002.50</td>\n",
       "      <td>1002.500</td>\n",
       "      <td>1002.5</td>\n",
       "    </tr>\n",
       "    <tr>\n",
       "      <th>11</th>\n",
       "      <td>3.0</td>\n",
       "      <td>10.033333</td>\n",
       "      <td>2.345918</td>\n",
       "      <td>8.0</td>\n",
       "      <td>8.750</td>\n",
       "      <td>9.50</td>\n",
       "      <td>11.050</td>\n",
       "      <td>12.6</td>\n",
       "      <td>3.0</td>\n",
       "      <td>346.366667</td>\n",
       "      <td>...</td>\n",
       "      <td>370.250</td>\n",
       "      <td>402.5</td>\n",
       "      <td>3.0</td>\n",
       "      <td>1821.800000</td>\n",
       "      <td>815.204066</td>\n",
       "      <td>1015.9</td>\n",
       "      <td>1409.700</td>\n",
       "      <td>1803.50</td>\n",
       "      <td>2224.750</td>\n",
       "      <td>2646.0</td>\n",
       "    </tr>\n",
       "    <tr>\n",
       "      <th>14</th>\n",
       "      <td>2.0</td>\n",
       "      <td>8.850000</td>\n",
       "      <td>0.353553</td>\n",
       "      <td>8.6</td>\n",
       "      <td>8.725</td>\n",
       "      <td>8.85</td>\n",
       "      <td>8.975</td>\n",
       "      <td>9.1</td>\n",
       "      <td>2.0</td>\n",
       "      <td>246.100000</td>\n",
       "      <td>...</td>\n",
       "      <td>263.150</td>\n",
       "      <td>280.2</td>\n",
       "      <td>2.0</td>\n",
       "      <td>940.550000</td>\n",
       "      <td>532.380696</td>\n",
       "      <td>564.1</td>\n",
       "      <td>752.325</td>\n",
       "      <td>940.55</td>\n",
       "      <td>1128.775</td>\n",
       "      <td>1317.0</td>\n",
       "    </tr>\n",
       "    <tr>\n",
       "      <th>17</th>\n",
       "      <td>1.0</td>\n",
       "      <td>4.600000</td>\n",
       "      <td>NaN</td>\n",
       "      <td>4.6</td>\n",
       "      <td>4.600</td>\n",
       "      <td>4.60</td>\n",
       "      <td>4.600</td>\n",
       "      <td>4.6</td>\n",
       "      <td>1.0</td>\n",
       "      <td>885.400000</td>\n",
       "      <td>...</td>\n",
       "      <td>885.400</td>\n",
       "      <td>885.4</td>\n",
       "      <td>1.0</td>\n",
       "      <td>812.500000</td>\n",
       "      <td>NaN</td>\n",
       "      <td>812.5</td>\n",
       "      <td>812.500</td>\n",
       "      <td>812.50</td>\n",
       "      <td>812.500</td>\n",
       "      <td>812.5</td>\n",
       "    </tr>\n",
       "    <tr>\n",
       "      <th>27</th>\n",
       "      <td>1.0</td>\n",
       "      <td>10.900000</td>\n",
       "      <td>NaN</td>\n",
       "      <td>10.9</td>\n",
       "      <td>10.900</td>\n",
       "      <td>10.90</td>\n",
       "      <td>10.900</td>\n",
       "      <td>10.9</td>\n",
       "      <td>1.0</td>\n",
       "      <td>226.500000</td>\n",
       "      <td>...</td>\n",
       "      <td>226.500</td>\n",
       "      <td>226.5</td>\n",
       "      <td>1.0</td>\n",
       "      <td>773.800000</td>\n",
       "      <td>NaN</td>\n",
       "      <td>773.8</td>\n",
       "      <td>773.800</td>\n",
       "      <td>773.80</td>\n",
       "      <td>773.800</td>\n",
       "      <td>773.8</td>\n",
       "    </tr>\n",
       "  </tbody>\n",
       "</table>\n",
       "<p>14 rows × 24 columns</p>\n",
       "</div>"
      ],
      "text/plain": [
       "           Unnamed: 2                                                          \\\n",
       "                count       mean       std   min     25%    50%     75%   max   \n",
       "Unnamed: 1                                                                      \n",
       "1                87.0   3.126437  3.392209   1.0   1.000   2.00   4.000  17.0   \n",
       "2                79.0   3.645570  3.325457   1.5   1.500   2.00   4.250  16.5   \n",
       "3                40.0   4.585000  3.468063   1.3   1.925   3.00   6.700  13.7   \n",
       "4                23.0   6.882609  4.280150   1.5   2.900   8.00  10.000  15.0   \n",
       "5                18.0   7.344444  4.493030   1.8   3.900   7.00   9.400  20.2   \n",
       "6                 9.0   7.255556  4.626584   2.2   3.200   7.70   9.800  15.3   \n",
       "7                 5.0   7.980000  6.961106   2.9   3.100   3.70  11.600  18.6   \n",
       "8                 1.0  13.200000       NaN  13.2  13.200  13.20  13.200  13.2   \n",
       "9                 1.0   8.200000       NaN   8.2   8.200   8.20   8.200   8.2   \n",
       "10                1.0   3.800000       NaN   3.8   3.800   3.80   3.800   3.8   \n",
       "11                3.0  10.033333  2.345918   8.0   8.750   9.50  11.050  12.6   \n",
       "14                2.0   8.850000  0.353553   8.6   8.725   8.85   8.975   9.1   \n",
       "17                1.0   4.600000       NaN   4.6   4.600   4.60   4.600   4.6   \n",
       "27                1.0  10.900000       NaN  10.9  10.900  10.90  10.900  10.9   \n",
       "\n",
       "           Unnamed: 3               ...                   Unnamed: 4  \\\n",
       "                count         mean  ...       75%     max      count   \n",
       "Unnamed: 1                          ...                                \n",
       "1                87.0   975.332184  ...  1427.000  5122.0       87.0   \n",
       "2                79.0  1084.369620  ...  1602.050  3405.0       79.0   \n",
       "3                40.0   860.422500  ...  1156.625  3072.5       40.0   \n",
       "4                23.0   526.065217  ...   707.150  1747.1       23.0   \n",
       "5                18.0   481.838889  ...   658.575  1731.4       18.0   \n",
       "6                 9.0   620.744444  ...  1113.100  1491.8        9.0   \n",
       "7                 5.0   508.180000  ...   445.400  1313.0        5.0   \n",
       "8                 1.0   242.700000  ...   242.700   242.7        1.0   \n",
       "9                 1.0   159.100000  ...   159.100   159.1        1.0   \n",
       "10                1.0   988.100000  ...   988.100   988.1        1.0   \n",
       "11                3.0   346.366667  ...   370.250   402.5        3.0   \n",
       "14                2.0   246.100000  ...   263.150   280.2        2.0   \n",
       "17                1.0   885.400000  ...   885.400   885.4        1.0   \n",
       "27                1.0   226.500000  ...   226.500   226.5        1.0   \n",
       "\n",
       "                                                                           \\\n",
       "                   mean          std     min       25%      50%       75%   \n",
       "Unnamed: 1                                                                  \n",
       "1            532.688506  1009.634781     0.0     0.000    98.00   653.300   \n",
       "2            934.868354   757.755451    43.5   210.000   820.70  1534.750   \n",
       "3           1177.022500   786.636446    93.4   587.625  1106.90  1523.150   \n",
       "4            940.078261   632.456992    50.2   504.500   782.90  1100.200   \n",
       "5           1003.333333   634.656835   148.2   593.425   843.30  1191.050   \n",
       "6           1109.755556   395.019231   607.5   767.000  1062.00  1384.200   \n",
       "7            745.400000   384.936027   399.0   425.300   583.10  1144.800   \n",
       "8            752.400000          NaN   752.4   752.400   752.40   752.400   \n",
       "9            674.200000          NaN   674.2   674.200   674.20   674.200   \n",
       "10          1002.500000          NaN  1002.5  1002.500  1002.50  1002.500   \n",
       "11          1821.800000   815.204066  1015.9  1409.700  1803.50  2224.750   \n",
       "14           940.550000   532.380696   564.1   752.325   940.55  1128.775   \n",
       "17           812.500000          NaN   812.5   812.500   812.50   812.500   \n",
       "27           773.800000          NaN   773.8   773.800   773.80   773.800   \n",
       "\n",
       "                    \n",
       "               max  \n",
       "Unnamed: 1          \n",
       "1           5912.0  \n",
       "2           2854.0  \n",
       "3           4211.5  \n",
       "4           2608.9  \n",
       "5           2867.1  \n",
       "6           1793.0  \n",
       "7           1174.8  \n",
       "8            752.4  \n",
       "9            674.2  \n",
       "10          1002.5  \n",
       "11          2646.0  \n",
       "14          1317.0  \n",
       "17           812.5  \n",
       "27           773.8  \n",
       "\n",
       "[14 rows x 24 columns]"
      ]
     },
     "execution_count": 42,
     "metadata": {},
     "output_type": "execute_result"
    }
   ],
   "source": [
    "Sorted_Barley_transcript_numdata.describe()"
   ]
  },
  {
   "cell_type": "code",
   "execution_count": 46,
   "id": "e3cc4254",
   "metadata": {},
   "outputs": [
    {
     "data": {
      "text/html": [
       "<div>\n",
       "<style scoped>\n",
       "    .dataframe tbody tr th:only-of-type {\n",
       "        vertical-align: middle;\n",
       "    }\n",
       "\n",
       "    .dataframe tbody tr th {\n",
       "        vertical-align: top;\n",
       "    }\n",
       "\n",
       "    .dataframe thead th {\n",
       "        text-align: right;\n",
       "    }\n",
       "</style>\n",
       "<table border=\"1\" class=\"dataframe\">\n",
       "  <thead>\n",
       "    <tr style=\"text-align: right;\">\n",
       "      <th></th>\n",
       "      <th>Unnamed: 1</th>\n",
       "      <th>Unnamed: 2</th>\n",
       "      <th>Unnamed: 3</th>\n",
       "      <th>Unnamed: 4</th>\n",
       "      <th>average_transcript</th>\n",
       "    </tr>\n",
       "  </thead>\n",
       "  <tbody>\n",
       "    <tr>\n",
       "      <th>1</th>\n",
       "      <td>1</td>\n",
       "      <td>8.0</td>\n",
       "      <td>178.1</td>\n",
       "      <td>847.9</td>\n",
       "      <td>8.0</td>\n",
       "    </tr>\n",
       "    <tr>\n",
       "      <th>2</th>\n",
       "      <td>2</td>\n",
       "      <td>1.5</td>\n",
       "      <td>2187.3</td>\n",
       "      <td>1680.5</td>\n",
       "      <td>3.0</td>\n",
       "    </tr>\n",
       "    <tr>\n",
       "      <th>3</th>\n",
       "      <td>6</td>\n",
       "      <td>9.8</td>\n",
       "      <td>300.6</td>\n",
       "      <td>716.5</td>\n",
       "      <td>58.8</td>\n",
       "    </tr>\n",
       "    <tr>\n",
       "      <th>4</th>\n",
       "      <td>2</td>\n",
       "      <td>11.0</td>\n",
       "      <td>170.0</td>\n",
       "      <td>552.9</td>\n",
       "      <td>22.0</td>\n",
       "    </tr>\n",
       "    <tr>\n",
       "      <th>5</th>\n",
       "      <td>1</td>\n",
       "      <td>7.0</td>\n",
       "      <td>278.3</td>\n",
       "      <td>668.3</td>\n",
       "      <td>7.0</td>\n",
       "    </tr>\n",
       "    <tr>\n",
       "      <th>...</th>\n",
       "      <td>...</td>\n",
       "      <td>...</td>\n",
       "      <td>...</td>\n",
       "      <td>...</td>\n",
       "      <td>...</td>\n",
       "    </tr>\n",
       "    <tr>\n",
       "      <th>267</th>\n",
       "      <td>14</td>\n",
       "      <td>9.1</td>\n",
       "      <td>212.0</td>\n",
       "      <td>564.1</td>\n",
       "      <td>127.4</td>\n",
       "    </tr>\n",
       "    <tr>\n",
       "      <th>268</th>\n",
       "      <td>1</td>\n",
       "      <td>1.0</td>\n",
       "      <td>1405.0</td>\n",
       "      <td>0.0</td>\n",
       "      <td>1.0</td>\n",
       "    </tr>\n",
       "    <tr>\n",
       "      <th>269</th>\n",
       "      <td>2</td>\n",
       "      <td>4.0</td>\n",
       "      <td>666.1</td>\n",
       "      <td>1064.6</td>\n",
       "      <td>8.0</td>\n",
       "    </tr>\n",
       "    <tr>\n",
       "      <th>270</th>\n",
       "      <td>1</td>\n",
       "      <td>1.0</td>\n",
       "      <td>1805.0</td>\n",
       "      <td>0.0</td>\n",
       "      <td>1.0</td>\n",
       "    </tr>\n",
       "    <tr>\n",
       "      <th>271</th>\n",
       "      <td>1</td>\n",
       "      <td>3.0</td>\n",
       "      <td>1213.3</td>\n",
       "      <td>638.5</td>\n",
       "      <td>3.0</td>\n",
       "    </tr>\n",
       "  </tbody>\n",
       "</table>\n",
       "<p>271 rows × 5 columns</p>\n",
       "</div>"
      ],
      "text/plain": [
       "     Unnamed: 1  Unnamed: 2  Unnamed: 3  Unnamed: 4  average_transcript\n",
       "1             1         8.0       178.1       847.9                 8.0\n",
       "2             2         1.5      2187.3      1680.5                 3.0\n",
       "3             6         9.8       300.6       716.5                58.8\n",
       "4             2        11.0       170.0       552.9                22.0\n",
       "5             1         7.0       278.3       668.3                 7.0\n",
       "..          ...         ...         ...         ...                 ...\n",
       "267          14         9.1       212.0       564.1               127.4\n",
       "268           1         1.0      1405.0         0.0                 1.0\n",
       "269           2         4.0       666.1      1064.6                 8.0\n",
       "270           1         1.0      1805.0         0.0                 1.0\n",
       "271           1         3.0      1213.3       638.5                 3.0\n",
       "\n",
       "[271 rows x 5 columns]"
      ]
     },
     "execution_count": 46,
     "metadata": {},
     "output_type": "execute_result"
    }
   ],
   "source": [
    "Barley_Supp_4_df_num"
   ]
  },
  {
   "cell_type": "code",
   "execution_count": 48,
   "id": "c3c4e810",
   "metadata": {},
   "outputs": [
    {
     "data": {
      "text/plain": [
       "16.724354243542432"
      ]
     },
     "execution_count": 48,
     "metadata": {},
     "output_type": "execute_result"
    }
   ],
   "source": [
    "Barley_Supp_4_df_num['average_transcript'].mean()"
   ]
  },
  {
   "cell_type": "code",
   "execution_count": 50,
   "id": "5f8ff99b",
   "metadata": {},
   "outputs": [
    {
     "data": {
      "text/html": [
       "<div>\n",
       "<style scoped>\n",
       "    .dataframe tbody tr th:only-of-type {\n",
       "        vertical-align: middle;\n",
       "    }\n",
       "\n",
       "    .dataframe tbody tr th {\n",
       "        vertical-align: top;\n",
       "    }\n",
       "\n",
       "    .dataframe thead tr th {\n",
       "        text-align: left;\n",
       "    }\n",
       "\n",
       "    .dataframe thead tr:last-of-type th {\n",
       "        text-align: right;\n",
       "    }\n",
       "</style>\n",
       "<table border=\"1\" class=\"dataframe\">\n",
       "  <thead>\n",
       "    <tr>\n",
       "      <th></th>\n",
       "      <th colspan=\"4\" halign=\"left\">Unnamed: 2</th>\n",
       "      <th colspan=\"4\" halign=\"left\">Unnamed: 3</th>\n",
       "      <th colspan=\"4\" halign=\"left\">Unnamed: 4</th>\n",
       "    </tr>\n",
       "    <tr>\n",
       "      <th></th>\n",
       "      <th>count</th>\n",
       "      <th>unique</th>\n",
       "      <th>top</th>\n",
       "      <th>freq</th>\n",
       "      <th>count</th>\n",
       "      <th>unique</th>\n",
       "      <th>top</th>\n",
       "      <th>freq</th>\n",
       "      <th>count</th>\n",
       "      <th>unique</th>\n",
       "      <th>top</th>\n",
       "      <th>freq</th>\n",
       "    </tr>\n",
       "    <tr>\n",
       "      <th>Unnamed: 1</th>\n",
       "      <th></th>\n",
       "      <th></th>\n",
       "      <th></th>\n",
       "      <th></th>\n",
       "      <th></th>\n",
       "      <th></th>\n",
       "      <th></th>\n",
       "      <th></th>\n",
       "      <th></th>\n",
       "      <th></th>\n",
       "      <th></th>\n",
       "      <th></th>\n",
       "    </tr>\n",
       "  </thead>\n",
       "  <tbody>\n",
       "    <tr>\n",
       "      <th>1</th>\n",
       "      <td>87</td>\n",
       "      <td>13</td>\n",
       "      <td>1</td>\n",
       "      <td>43</td>\n",
       "      <td>87.0</td>\n",
       "      <td>87.0</td>\n",
       "      <td>178.1</td>\n",
       "      <td>1.0</td>\n",
       "      <td>87.0</td>\n",
       "      <td>45.0</td>\n",
       "      <td>0.0</td>\n",
       "      <td>43.0</td>\n",
       "    </tr>\n",
       "    <tr>\n",
       "      <th>2</th>\n",
       "      <td>79.0</td>\n",
       "      <td>18.0</td>\n",
       "      <td>1.5</td>\n",
       "      <td>34.0</td>\n",
       "      <td>79.0</td>\n",
       "      <td>79.0</td>\n",
       "      <td>2187.3</td>\n",
       "      <td>1.0</td>\n",
       "      <td>79.0</td>\n",
       "      <td>79.0</td>\n",
       "      <td>1680.5</td>\n",
       "      <td>1.0</td>\n",
       "    </tr>\n",
       "    <tr>\n",
       "      <th>3</th>\n",
       "      <td>40.0</td>\n",
       "      <td>19.0</td>\n",
       "      <td>1.7</td>\n",
       "      <td>8.0</td>\n",
       "      <td>40.0</td>\n",
       "      <td>40.0</td>\n",
       "      <td>1659.7</td>\n",
       "      <td>1.0</td>\n",
       "      <td>40.0</td>\n",
       "      <td>40.0</td>\n",
       "      <td>93.4</td>\n",
       "      <td>1.0</td>\n",
       "    </tr>\n",
       "    <tr>\n",
       "      <th>4</th>\n",
       "      <td>23.0</td>\n",
       "      <td>18.0</td>\n",
       "      <td>10.8</td>\n",
       "      <td>3.0</td>\n",
       "      <td>23.0</td>\n",
       "      <td>23.0</td>\n",
       "      <td>338.3</td>\n",
       "      <td>1.0</td>\n",
       "      <td>23.0</td>\n",
       "      <td>23.0</td>\n",
       "      <td>1002.6</td>\n",
       "      <td>1.0</td>\n",
       "    </tr>\n",
       "    <tr>\n",
       "      <th>5</th>\n",
       "      <td>18.0</td>\n",
       "      <td>18.0</td>\n",
       "      <td>13.0</td>\n",
       "      <td>1.0</td>\n",
       "      <td>18.0</td>\n",
       "      <td>18.0</td>\n",
       "      <td>205.0</td>\n",
       "      <td>1.0</td>\n",
       "      <td>18.0</td>\n",
       "      <td>18.0</td>\n",
       "      <td>654.4</td>\n",
       "      <td>1.0</td>\n",
       "    </tr>\n",
       "    <tr>\n",
       "      <th>6</th>\n",
       "      <td>9.0</td>\n",
       "      <td>9.0</td>\n",
       "      <td>9.8</td>\n",
       "      <td>1.0</td>\n",
       "      <td>9.0</td>\n",
       "      <td>9.0</td>\n",
       "      <td>300.6</td>\n",
       "      <td>1.0</td>\n",
       "      <td>9.0</td>\n",
       "      <td>9.0</td>\n",
       "      <td>716.5</td>\n",
       "      <td>1.0</td>\n",
       "    </tr>\n",
       "    <tr>\n",
       "      <th>7</th>\n",
       "      <td>5.0</td>\n",
       "      <td>5.0</td>\n",
       "      <td>18.6</td>\n",
       "      <td>1.0</td>\n",
       "      <td>5.0</td>\n",
       "      <td>5.0</td>\n",
       "      <td>218.7</td>\n",
       "      <td>1.0</td>\n",
       "      <td>5.0</td>\n",
       "      <td>5.0</td>\n",
       "      <td>1174.8</td>\n",
       "      <td>1.0</td>\n",
       "    </tr>\n",
       "    <tr>\n",
       "      <th>8</th>\n",
       "      <td>1.0</td>\n",
       "      <td>1.0</td>\n",
       "      <td>13.2</td>\n",
       "      <td>1.0</td>\n",
       "      <td>1.0</td>\n",
       "      <td>1.0</td>\n",
       "      <td>242.7</td>\n",
       "      <td>1.0</td>\n",
       "      <td>1.0</td>\n",
       "      <td>1.0</td>\n",
       "      <td>752.4</td>\n",
       "      <td>1.0</td>\n",
       "    </tr>\n",
       "    <tr>\n",
       "      <th>9</th>\n",
       "      <td>1.0</td>\n",
       "      <td>1.0</td>\n",
       "      <td>8.2</td>\n",
       "      <td>1.0</td>\n",
       "      <td>1.0</td>\n",
       "      <td>1.0</td>\n",
       "      <td>159.1</td>\n",
       "      <td>1.0</td>\n",
       "      <td>1.0</td>\n",
       "      <td>1.0</td>\n",
       "      <td>674.2</td>\n",
       "      <td>1.0</td>\n",
       "    </tr>\n",
       "    <tr>\n",
       "      <th>10</th>\n",
       "      <td>1.0</td>\n",
       "      <td>1.0</td>\n",
       "      <td>3.8</td>\n",
       "      <td>1.0</td>\n",
       "      <td>1.0</td>\n",
       "      <td>1.0</td>\n",
       "      <td>988.1</td>\n",
       "      <td>1.0</td>\n",
       "      <td>1.0</td>\n",
       "      <td>1.0</td>\n",
       "      <td>1002.5</td>\n",
       "      <td>1.0</td>\n",
       "    </tr>\n",
       "    <tr>\n",
       "      <th>11</th>\n",
       "      <td>3.0</td>\n",
       "      <td>3.0</td>\n",
       "      <td>12.6</td>\n",
       "      <td>1.0</td>\n",
       "      <td>3.0</td>\n",
       "      <td>3.0</td>\n",
       "      <td>402.5</td>\n",
       "      <td>1.0</td>\n",
       "      <td>3.0</td>\n",
       "      <td>3.0</td>\n",
       "      <td>2646.0</td>\n",
       "      <td>1.0</td>\n",
       "    </tr>\n",
       "    <tr>\n",
       "      <th>14</th>\n",
       "      <td>2.0</td>\n",
       "      <td>2.0</td>\n",
       "      <td>8.6</td>\n",
       "      <td>1.0</td>\n",
       "      <td>2.0</td>\n",
       "      <td>2.0</td>\n",
       "      <td>280.2</td>\n",
       "      <td>1.0</td>\n",
       "      <td>2.0</td>\n",
       "      <td>2.0</td>\n",
       "      <td>1317.0</td>\n",
       "      <td>1.0</td>\n",
       "    </tr>\n",
       "    <tr>\n",
       "      <th>17</th>\n",
       "      <td>1.0</td>\n",
       "      <td>1.0</td>\n",
       "      <td>4.6</td>\n",
       "      <td>1.0</td>\n",
       "      <td>1.0</td>\n",
       "      <td>1.0</td>\n",
       "      <td>885.4</td>\n",
       "      <td>1.0</td>\n",
       "      <td>1.0</td>\n",
       "      <td>1.0</td>\n",
       "      <td>812.5</td>\n",
       "      <td>1.0</td>\n",
       "    </tr>\n",
       "    <tr>\n",
       "      <th>27</th>\n",
       "      <td>1.0</td>\n",
       "      <td>1.0</td>\n",
       "      <td>10.9</td>\n",
       "      <td>1.0</td>\n",
       "      <td>1.0</td>\n",
       "      <td>1.0</td>\n",
       "      <td>226.5</td>\n",
       "      <td>1.0</td>\n",
       "      <td>1.0</td>\n",
       "      <td>1.0</td>\n",
       "      <td>773.8</td>\n",
       "      <td>1.0</td>\n",
       "    </tr>\n",
       "    <tr>\n",
       "      <th>Number of transcripts</th>\n",
       "      <td>1</td>\n",
       "      <td>1</td>\n",
       "      <td>Average number of exons</td>\n",
       "      <td>1</td>\n",
       "      <td>1</td>\n",
       "      <td>1</td>\n",
       "      <td>Average exon length</td>\n",
       "      <td>1</td>\n",
       "      <td>1</td>\n",
       "      <td>1</td>\n",
       "      <td>Average intron length</td>\n",
       "      <td>1</td>\n",
       "    </tr>\n",
       "  </tbody>\n",
       "</table>\n",
       "</div>"
      ],
      "text/plain": [
       "                      Unnamed: 2                                        \\\n",
       "                           count unique                      top  freq   \n",
       "Unnamed: 1                                                               \n",
       "1                             87     13                        1    43   \n",
       "2                           79.0   18.0                      1.5  34.0   \n",
       "3                           40.0   19.0                      1.7   8.0   \n",
       "4                           23.0   18.0                     10.8   3.0   \n",
       "5                           18.0   18.0                     13.0   1.0   \n",
       "6                            9.0    9.0                      9.8   1.0   \n",
       "7                            5.0    5.0                     18.6   1.0   \n",
       "8                            1.0    1.0                     13.2   1.0   \n",
       "9                            1.0    1.0                      8.2   1.0   \n",
       "10                           1.0    1.0                      3.8   1.0   \n",
       "11                           3.0    3.0                     12.6   1.0   \n",
       "14                           2.0    2.0                      8.6   1.0   \n",
       "17                           1.0    1.0                      4.6   1.0   \n",
       "27                           1.0    1.0                     10.9   1.0   \n",
       "Number of transcripts          1      1  Average number of exons     1   \n",
       "\n",
       "                      Unnamed: 3                                  Unnamed: 4  \\\n",
       "                           count unique                  top freq      count   \n",
       "Unnamed: 1                                                                     \n",
       "1                           87.0   87.0                178.1  1.0       87.0   \n",
       "2                           79.0   79.0               2187.3  1.0       79.0   \n",
       "3                           40.0   40.0               1659.7  1.0       40.0   \n",
       "4                           23.0   23.0                338.3  1.0       23.0   \n",
       "5                           18.0   18.0                205.0  1.0       18.0   \n",
       "6                            9.0    9.0                300.6  1.0        9.0   \n",
       "7                            5.0    5.0                218.7  1.0        5.0   \n",
       "8                            1.0    1.0                242.7  1.0        1.0   \n",
       "9                            1.0    1.0                159.1  1.0        1.0   \n",
       "10                           1.0    1.0                988.1  1.0        1.0   \n",
       "11                           3.0    3.0                402.5  1.0        3.0   \n",
       "14                           2.0    2.0                280.2  1.0        2.0   \n",
       "17                           1.0    1.0                885.4  1.0        1.0   \n",
       "27                           1.0    1.0                226.5  1.0        1.0   \n",
       "Number of transcripts          1      1  Average exon length    1          1   \n",
       "\n",
       "                                                           \n",
       "                      unique                    top  freq  \n",
       "Unnamed: 1                                                 \n",
       "1                       45.0                    0.0  43.0  \n",
       "2                       79.0                 1680.5   1.0  \n",
       "3                       40.0                   93.4   1.0  \n",
       "4                       23.0                 1002.6   1.0  \n",
       "5                       18.0                  654.4   1.0  \n",
       "6                        9.0                  716.5   1.0  \n",
       "7                        5.0                 1174.8   1.0  \n",
       "8                        1.0                  752.4   1.0  \n",
       "9                        1.0                  674.2   1.0  \n",
       "10                       1.0                 1002.5   1.0  \n",
       "11                       3.0                 2646.0   1.0  \n",
       "14                       2.0                 1317.0   1.0  \n",
       "17                       1.0                  812.5   1.0  \n",
       "27                       1.0                  773.8   1.0  \n",
       "Number of transcripts      1  Average intron length     1  "
      ]
     },
     "execution_count": 50,
     "metadata": {},
     "output_type": "execute_result"
    }
   ],
   "source": [
    "Sorted_Barley_transcript_data.describe()"
   ]
  },
  {
   "cell_type": "code",
   "execution_count": 51,
   "id": "0a2e5c4d",
   "metadata": {},
   "outputs": [
    {
     "data": {
      "text/plain": [
       "2.8444444444444446"
      ]
     },
     "execution_count": 51,
     "metadata": {},
     "output_type": "execute_result"
    }
   ],
   "source": [
    "(27+17+28+33+10+9+8+35+54+(5*18)+(4*23)+(3*40)+(2*79)+87)/270"
   ]
  },
  {
   "cell_type": "markdown",
   "id": "80192f60",
   "metadata": {},
   "source": [
    "The average number of transcripts per gene for Barley was 2.8 with a range of 1-27. This agrees with the authors. "
   ]
  },
  {
   "cell_type": "code",
   "execution_count": 54,
   "id": "5e7b6264",
   "metadata": {},
   "outputs": [],
   "source": [
    "Barley_Sorted_exon_data = Barley_Supp_4.groupby('Unnamed: 2')"
   ]
  },
  {
   "cell_type": "code",
   "execution_count": 56,
   "id": "2df3910e",
   "metadata": {},
   "outputs": [
    {
     "data": {
      "text/html": [
       "<div>\n",
       "<style scoped>\n",
       "    .dataframe tbody tr th:only-of-type {\n",
       "        vertical-align: middle;\n",
       "    }\n",
       "\n",
       "    .dataframe tbody tr th {\n",
       "        vertical-align: top;\n",
       "    }\n",
       "\n",
       "    .dataframe thead tr th {\n",
       "        text-align: left;\n",
       "    }\n",
       "\n",
       "    .dataframe thead tr:last-of-type th {\n",
       "        text-align: right;\n",
       "    }\n",
       "</style>\n",
       "<table border=\"1\" class=\"dataframe\">\n",
       "  <thead>\n",
       "    <tr>\n",
       "      <th></th>\n",
       "      <th colspan=\"4\" halign=\"left\">Unnamed: 1</th>\n",
       "      <th colspan=\"4\" halign=\"left\">Unnamed: 3</th>\n",
       "      <th colspan=\"4\" halign=\"left\">Unnamed: 4</th>\n",
       "    </tr>\n",
       "    <tr>\n",
       "      <th></th>\n",
       "      <th>count</th>\n",
       "      <th>unique</th>\n",
       "      <th>top</th>\n",
       "      <th>freq</th>\n",
       "      <th>count</th>\n",
       "      <th>unique</th>\n",
       "      <th>top</th>\n",
       "      <th>freq</th>\n",
       "      <th>count</th>\n",
       "      <th>unique</th>\n",
       "      <th>top</th>\n",
       "      <th>freq</th>\n",
       "    </tr>\n",
       "    <tr>\n",
       "      <th>Unnamed: 2</th>\n",
       "      <th></th>\n",
       "      <th></th>\n",
       "      <th></th>\n",
       "      <th></th>\n",
       "      <th></th>\n",
       "      <th></th>\n",
       "      <th></th>\n",
       "      <th></th>\n",
       "      <th></th>\n",
       "      <th></th>\n",
       "      <th></th>\n",
       "      <th></th>\n",
       "    </tr>\n",
       "  </thead>\n",
       "  <tbody>\n",
       "    <tr>\n",
       "      <th>1</th>\n",
       "      <td>43</td>\n",
       "      <td>1</td>\n",
       "      <td>1</td>\n",
       "      <td>43</td>\n",
       "      <td>43</td>\n",
       "      <td>43</td>\n",
       "      <td>3878</td>\n",
       "      <td>1</td>\n",
       "      <td>43</td>\n",
       "      <td>1</td>\n",
       "      <td>0</td>\n",
       "      <td>43</td>\n",
       "    </tr>\n",
       "    <tr>\n",
       "      <th>1.3</th>\n",
       "      <td>2</td>\n",
       "      <td>1</td>\n",
       "      <td>3</td>\n",
       "      <td>2</td>\n",
       "      <td>2.0</td>\n",
       "      <td>2.0</td>\n",
       "      <td>1759.5</td>\n",
       "      <td>1.0</td>\n",
       "      <td>2.0</td>\n",
       "      <td>2.0</td>\n",
       "      <td>1510.7</td>\n",
       "      <td>1.0</td>\n",
       "    </tr>\n",
       "    <tr>\n",
       "      <th>1.5</th>\n",
       "      <td>35</td>\n",
       "      <td>2</td>\n",
       "      <td>2</td>\n",
       "      <td>34</td>\n",
       "      <td>35.0</td>\n",
       "      <td>35.0</td>\n",
       "      <td>2187.3</td>\n",
       "      <td>1.0</td>\n",
       "      <td>35.0</td>\n",
       "      <td>35.0</td>\n",
       "      <td>1680.5</td>\n",
       "      <td>1.0</td>\n",
       "    </tr>\n",
       "    <tr>\n",
       "      <th>1.7</th>\n",
       "      <td>8</td>\n",
       "      <td>1</td>\n",
       "      <td>3</td>\n",
       "      <td>8</td>\n",
       "      <td>8.0</td>\n",
       "      <td>8.0</td>\n",
       "      <td>750.4</td>\n",
       "      <td>1.0</td>\n",
       "      <td>8.0</td>\n",
       "      <td>8.0</td>\n",
       "      <td>794.5</td>\n",
       "      <td>1.0</td>\n",
       "    </tr>\n",
       "    <tr>\n",
       "      <th>1.8</th>\n",
       "      <td>2</td>\n",
       "      <td>2</td>\n",
       "      <td>4</td>\n",
       "      <td>1</td>\n",
       "      <td>2.0</td>\n",
       "      <td>2.0</td>\n",
       "      <td>1747.1</td>\n",
       "      <td>1.0</td>\n",
       "      <td>2.0</td>\n",
       "      <td>2.0</td>\n",
       "      <td>50.2</td>\n",
       "      <td>1.0</td>\n",
       "    </tr>\n",
       "    <tr>\n",
       "      <th>...</th>\n",
       "      <td>...</td>\n",
       "      <td>...</td>\n",
       "      <td>...</td>\n",
       "      <td>...</td>\n",
       "      <td>...</td>\n",
       "      <td>...</td>\n",
       "      <td>...</td>\n",
       "      <td>...</td>\n",
       "      <td>...</td>\n",
       "      <td>...</td>\n",
       "      <td>...</td>\n",
       "      <td>...</td>\n",
       "    </tr>\n",
       "    <tr>\n",
       "      <th>16.5</th>\n",
       "      <td>1</td>\n",
       "      <td>1</td>\n",
       "      <td>2</td>\n",
       "      <td>1</td>\n",
       "      <td>1.0</td>\n",
       "      <td>1.0</td>\n",
       "      <td>87.4</td>\n",
       "      <td>1.0</td>\n",
       "      <td>1.0</td>\n",
       "      <td>1.0</td>\n",
       "      <td>494.2</td>\n",
       "      <td>1.0</td>\n",
       "    </tr>\n",
       "    <tr>\n",
       "      <th>17</th>\n",
       "      <td>1</td>\n",
       "      <td>1</td>\n",
       "      <td>1</td>\n",
       "      <td>1</td>\n",
       "      <td>1.0</td>\n",
       "      <td>1.0</td>\n",
       "      <td>133.9</td>\n",
       "      <td>1.0</td>\n",
       "      <td>1.0</td>\n",
       "      <td>1.0</td>\n",
       "      <td>109.5</td>\n",
       "      <td>1.0</td>\n",
       "    </tr>\n",
       "    <tr>\n",
       "      <th>18.6</th>\n",
       "      <td>1</td>\n",
       "      <td>1</td>\n",
       "      <td>7</td>\n",
       "      <td>1</td>\n",
       "      <td>1.0</td>\n",
       "      <td>1.0</td>\n",
       "      <td>218.7</td>\n",
       "      <td>1.0</td>\n",
       "      <td>1.0</td>\n",
       "      <td>1.0</td>\n",
       "      <td>1174.8</td>\n",
       "      <td>1.0</td>\n",
       "    </tr>\n",
       "    <tr>\n",
       "      <th>20.2</th>\n",
       "      <td>1</td>\n",
       "      <td>1</td>\n",
       "      <td>5</td>\n",
       "      <td>1</td>\n",
       "      <td>1.0</td>\n",
       "      <td>1.0</td>\n",
       "      <td>142.3</td>\n",
       "      <td>1.0</td>\n",
       "      <td>1.0</td>\n",
       "      <td>1.0</td>\n",
       "      <td>842.5</td>\n",
       "      <td>1.0</td>\n",
       "    </tr>\n",
       "    <tr>\n",
       "      <th>Average number of exons</th>\n",
       "      <td>1</td>\n",
       "      <td>1</td>\n",
       "      <td>Number of transcripts</td>\n",
       "      <td>1</td>\n",
       "      <td>1</td>\n",
       "      <td>1</td>\n",
       "      <td>Average exon length</td>\n",
       "      <td>1</td>\n",
       "      <td>1</td>\n",
       "      <td>1</td>\n",
       "      <td>Average intron length</td>\n",
       "      <td>1</td>\n",
       "    </tr>\n",
       "  </tbody>\n",
       "</table>\n",
       "<p>74 rows × 12 columns</p>\n",
       "</div>"
      ],
      "text/plain": [
       "                        Unnamed: 1                                     \\\n",
       "                             count unique                    top freq   \n",
       "Unnamed: 2                                                              \n",
       "1                               43      1                      1   43   \n",
       "1.3                              2      1                      3    2   \n",
       "1.5                             35      2                      2   34   \n",
       "1.7                              8      1                      3    8   \n",
       "1.8                              2      2                      4    1   \n",
       "...                            ...    ...                    ...  ...   \n",
       "16.5                             1      1                      2    1   \n",
       "17                               1      1                      1    1   \n",
       "18.6                             1      1                      7    1   \n",
       "20.2                             1      1                      5    1   \n",
       "Average number of exons          1      1  Number of transcripts    1   \n",
       "\n",
       "                        Unnamed: 3                                   \\\n",
       "                             count unique                  top freq   \n",
       "Unnamed: 2                                                            \n",
       "1                               43     43                 3878    1   \n",
       "1.3                            2.0    2.0               1759.5  1.0   \n",
       "1.5                           35.0   35.0               2187.3  1.0   \n",
       "1.7                            8.0    8.0                750.4  1.0   \n",
       "1.8                            2.0    2.0               1747.1  1.0   \n",
       "...                            ...    ...                  ...  ...   \n",
       "16.5                           1.0    1.0                 87.4  1.0   \n",
       "17                             1.0    1.0                133.9  1.0   \n",
       "18.6                           1.0    1.0                218.7  1.0   \n",
       "20.2                           1.0    1.0                142.3  1.0   \n",
       "Average number of exons          1      1  Average exon length    1   \n",
       "\n",
       "                        Unnamed: 4                                     \n",
       "                             count unique                    top freq  \n",
       "Unnamed: 2                                                             \n",
       "1                               43      1                      0   43  \n",
       "1.3                            2.0    2.0                 1510.7  1.0  \n",
       "1.5                           35.0   35.0                 1680.5  1.0  \n",
       "1.7                            8.0    8.0                  794.5  1.0  \n",
       "1.8                            2.0    2.0                   50.2  1.0  \n",
       "...                            ...    ...                    ...  ...  \n",
       "16.5                           1.0    1.0                  494.2  1.0  \n",
       "17                             1.0    1.0                  109.5  1.0  \n",
       "18.6                           1.0    1.0                 1174.8  1.0  \n",
       "20.2                           1.0    1.0                  842.5  1.0  \n",
       "Average number of exons          1      1  Average intron length    1  \n",
       "\n",
       "[74 rows x 12 columns]"
      ]
     },
     "execution_count": 56,
     "metadata": {},
     "output_type": "execute_result"
    }
   ],
   "source": [
    "Barley_Sorted_exon_data.describe()"
   ]
  },
  {
   "cell_type": "code",
   "execution_count": 58,
   "id": "677bd068",
   "metadata": {},
   "outputs": [
    {
     "data": {
      "text/plain": [
       "Unnamed: 2\n",
       "1                                                1\n",
       "1.3                                            1.3\n",
       "1.5                                            1.5\n",
       "1.7                                            1.7\n",
       "1.8                                            1.8\n",
       "                                    ...           \n",
       "16.5                                          16.5\n",
       "17                                              17\n",
       "18.6                                          18.6\n",
       "20.2                                          20.2\n",
       "Average number of exons    Average number of exons\n",
       "Name: Unnamed: 2, Length: 74, dtype: object"
      ]
     },
     "execution_count": 58,
     "metadata": {},
     "output_type": "execute_result"
    }
   ],
   "source": [
    "Barley_Sorted_exon_data['Unnamed: 2'].min()"
   ]
  },
  {
   "cell_type": "code",
   "execution_count": 61,
   "id": "6aba5fe0",
   "metadata": {},
   "outputs": [
    {
     "data": {
      "text/plain": [
       "4.529889298892989"
      ]
     },
     "execution_count": 61,
     "metadata": {},
     "output_type": "execute_result"
    }
   ],
   "source": [
    "Barley_Supp_4_df_num['Unnamed: 2'].mean()"
   ]
  },
  {
   "cell_type": "markdown",
   "id": "095597c4",
   "metadata": {},
   "source": [
    "Average number of exons per gene for Barley was 4.5 with a range of 1-20.2. This agrees with the author's data."
   ]
  },
  {
   "cell_type": "code",
   "execution_count": 62,
   "id": "6baa3e23",
   "metadata": {},
   "outputs": [
    {
     "data": {
      "text/plain": [
       "877.7464944649448"
      ]
     },
     "execution_count": 62,
     "metadata": {},
     "output_type": "execute_result"
    }
   ],
   "source": [
    "Barley_Supp_4_df_num['Unnamed: 3'].mean()"
   ]
  },
  {
   "cell_type": "code",
   "execution_count": 63,
   "id": "9f3631b0",
   "metadata": {},
   "outputs": [
    {
     "data": {
      "text/plain": [
       "87.4"
      ]
     },
     "execution_count": 63,
     "metadata": {},
     "output_type": "execute_result"
    }
   ],
   "source": [
    "Barley_Supp_4_df_num['Unnamed: 3'].min()"
   ]
  },
  {
   "cell_type": "code",
   "execution_count": 65,
   "id": "3ac574ea",
   "metadata": {},
   "outputs": [
    {
     "data": {
      "text/plain": [
       "5122.0"
      ]
     },
     "execution_count": 65,
     "metadata": {},
     "output_type": "execute_result"
    }
   ],
   "source": [
    "Barley_Supp_4_df_num['Unnamed: 3'].max()"
   ]
  },
  {
   "cell_type": "markdown",
   "id": "139f9d32",
   "metadata": {},
   "source": [
    "The average exon size for Barley flowering genes was 878bp with a range of 87-5211bp."
   ]
  },
  {
   "cell_type": "code",
   "execution_count": 66,
   "id": "0bb08186",
   "metadata": {},
   "outputs": [
    {
     "data": {
      "text/plain": [
       "5912.0"
      ]
     },
     "execution_count": 66,
     "metadata": {},
     "output_type": "execute_result"
    }
   ],
   "source": [
    "Barley_Supp_4_df_num['Unnamed: 4'].max()"
   ]
  },
  {
   "cell_type": "code",
   "execution_count": 70,
   "id": "3c941a31",
   "metadata": {},
   "outputs": [],
   "source": [
    "Barley_supp_4_desc = Barley_Supp_4_df_num.sort_values('Unnamed: 4', ascending=False)"
   ]
  },
  {
   "cell_type": "code",
   "execution_count": 76,
   "id": "a1b6d950",
   "metadata": {},
   "outputs": [
    {
     "data": {
      "text/html": [
       "<div>\n",
       "<style scoped>\n",
       "    .dataframe tbody tr th:only-of-type {\n",
       "        vertical-align: middle;\n",
       "    }\n",
       "\n",
       "    .dataframe tbody tr th {\n",
       "        vertical-align: top;\n",
       "    }\n",
       "\n",
       "    .dataframe thead th {\n",
       "        text-align: right;\n",
       "    }\n",
       "</style>\n",
       "<table border=\"1\" class=\"dataframe\">\n",
       "  <thead>\n",
       "    <tr style=\"text-align: right;\">\n",
       "      <th></th>\n",
       "      <th>Unnamed: 1</th>\n",
       "      <th>Unnamed: 2</th>\n",
       "      <th>Unnamed: 3</th>\n",
       "      <th>Unnamed: 4</th>\n",
       "      <th>average_transcript</th>\n",
       "    </tr>\n",
       "  </thead>\n",
       "  <tbody>\n",
       "    <tr>\n",
       "      <th>27</th>\n",
       "      <td>2</td>\n",
       "      <td>1.5</td>\n",
       "      <td>1327.3</td>\n",
       "      <td>57.0</td>\n",
       "      <td>3.0</td>\n",
       "    </tr>\n",
       "    <tr>\n",
       "      <th>38</th>\n",
       "      <td>2</td>\n",
       "      <td>1.5</td>\n",
       "      <td>1758.7</td>\n",
       "      <td>54.5</td>\n",
       "      <td>3.0</td>\n",
       "    </tr>\n",
       "    <tr>\n",
       "      <th>145</th>\n",
       "      <td>2</td>\n",
       "      <td>1.5</td>\n",
       "      <td>2000.7</td>\n",
       "      <td>53.5</td>\n",
       "      <td>3.0</td>\n",
       "    </tr>\n",
       "    <tr>\n",
       "      <th>257</th>\n",
       "      <td>2</td>\n",
       "      <td>1.5</td>\n",
       "      <td>991.3</td>\n",
       "      <td>52.0</td>\n",
       "      <td>3.0</td>\n",
       "    </tr>\n",
       "    <tr>\n",
       "      <th>35</th>\n",
       "      <td>4</td>\n",
       "      <td>1.8</td>\n",
       "      <td>1747.1</td>\n",
       "      <td>50.2</td>\n",
       "      <td>7.2</td>\n",
       "    </tr>\n",
       "    <tr>\n",
       "      <th>199</th>\n",
       "      <td>2</td>\n",
       "      <td>1.5</td>\n",
       "      <td>684.3</td>\n",
       "      <td>50.0</td>\n",
       "      <td>3.0</td>\n",
       "    </tr>\n",
       "    <tr>\n",
       "      <th>23</th>\n",
       "      <td>2</td>\n",
       "      <td>1.5</td>\n",
       "      <td>959.3</td>\n",
       "      <td>43.5</td>\n",
       "      <td>3.0</td>\n",
       "    </tr>\n",
       "    <tr>\n",
       "      <th>66</th>\n",
       "      <td>1</td>\n",
       "      <td>1.0</td>\n",
       "      <td>514.0</td>\n",
       "      <td>0.0</td>\n",
       "      <td>1.0</td>\n",
       "    </tr>\n",
       "    <tr>\n",
       "      <th>258</th>\n",
       "      <td>1</td>\n",
       "      <td>1.0</td>\n",
       "      <td>862.0</td>\n",
       "      <td>0.0</td>\n",
       "      <td>1.0</td>\n",
       "    </tr>\n",
       "    <tr>\n",
       "      <th>8</th>\n",
       "      <td>1</td>\n",
       "      <td>1.0</td>\n",
       "      <td>3878.0</td>\n",
       "      <td>0.0</td>\n",
       "      <td>1.0</td>\n",
       "    </tr>\n",
       "  </tbody>\n",
       "</table>\n",
       "</div>"
      ],
      "text/plain": [
       "     Unnamed: 1  Unnamed: 2  Unnamed: 3  Unnamed: 4  average_transcript\n",
       "27            2         1.5      1327.3        57.0                 3.0\n",
       "38            2         1.5      1758.7        54.5                 3.0\n",
       "145           2         1.5      2000.7        53.5                 3.0\n",
       "257           2         1.5       991.3        52.0                 3.0\n",
       "35            4         1.8      1747.1        50.2                 7.2\n",
       "199           2         1.5       684.3        50.0                 3.0\n",
       "23            2         1.5       959.3        43.5                 3.0\n",
       "66            1         1.0       514.0         0.0                 1.0\n",
       "258           1         1.0       862.0         0.0                 1.0\n",
       "8             1         1.0      3878.0         0.0                 1.0"
      ]
     },
     "execution_count": 76,
     "metadata": {},
     "output_type": "execute_result"
    }
   ],
   "source": [
    "Barley_supp_4_desc.iloc[221:231]"
   ]
  },
  {
   "cell_type": "code",
   "execution_count": 69,
   "id": "bf86fa71",
   "metadata": {},
   "outputs": [
    {
     "data": {
      "text/plain": [
       "856.228413284133"
      ]
     },
     "execution_count": 69,
     "metadata": {},
     "output_type": "execute_result"
    }
   ],
   "source": [
    "Barley_Supp_4_df_num['Unnamed: 4'].mean()"
   ]
  },
  {
   "cell_type": "markdown",
   "id": "0df31f83",
   "metadata": {},
   "source": [
    "The average intron size for Barley flowering genes was 856bp with a range between 43.5-5912bp. These results agree with the authors."
   ]
  },
  {
   "cell_type": "code",
   "execution_count": 77,
   "id": "58140167",
   "metadata": {},
   "outputs": [],
   "source": [
    "for index, row in Barley_Supp_4_df_num.iterrows():\n",
    "    exon = row['Unnamed: 3']\n",
    "    numexon = row['Unnamed: 2']\n",
    "    if(pd.isna(exon) is False and pd.isna(numexon) is False): \n",
    "        Barley_Supp_4_df_num.loc[index,'exon_total'] = exon * numexon"
   ]
  },
  {
   "cell_type": "code",
   "execution_count": 78,
   "id": "59bb5a4b",
   "metadata": {},
   "outputs": [],
   "source": [
    "for index, row in Barley_Supp_4_df_num.iterrows():\n",
    "    exon_total = row['exon_total']\n",
    "    intron = row['Unnamed: 4']\n",
    "    if(pd.isna(exon_total) is False and pd.isna(intron) is False): \n",
    "        Barley_Supp_4_df_num.loc[index,'exon_intron'] = exon_total + intron"
   ]
  },
  {
   "cell_type": "code",
   "execution_count": 79,
   "id": "12afc4af",
   "metadata": {},
   "outputs": [
    {
     "data": {
      "text/html": [
       "<div>\n",
       "<style scoped>\n",
       "    .dataframe tbody tr th:only-of-type {\n",
       "        vertical-align: middle;\n",
       "    }\n",
       "\n",
       "    .dataframe tbody tr th {\n",
       "        vertical-align: top;\n",
       "    }\n",
       "\n",
       "    .dataframe thead th {\n",
       "        text-align: right;\n",
       "    }\n",
       "</style>\n",
       "<table border=\"1\" class=\"dataframe\">\n",
       "  <thead>\n",
       "    <tr style=\"text-align: right;\">\n",
       "      <th></th>\n",
       "      <th>Unnamed: 1</th>\n",
       "      <th>Unnamed: 2</th>\n",
       "      <th>Unnamed: 3</th>\n",
       "      <th>Unnamed: 4</th>\n",
       "      <th>average_transcript</th>\n",
       "      <th>exon_total</th>\n",
       "      <th>exon_intron</th>\n",
       "    </tr>\n",
       "  </thead>\n",
       "  <tbody>\n",
       "    <tr>\n",
       "      <th>1</th>\n",
       "      <td>1</td>\n",
       "      <td>8.0</td>\n",
       "      <td>178.1</td>\n",
       "      <td>847.9</td>\n",
       "      <td>8.0</td>\n",
       "      <td>1424.80</td>\n",
       "      <td>2272.70</td>\n",
       "    </tr>\n",
       "    <tr>\n",
       "      <th>2</th>\n",
       "      <td>2</td>\n",
       "      <td>1.5</td>\n",
       "      <td>2187.3</td>\n",
       "      <td>1680.5</td>\n",
       "      <td>3.0</td>\n",
       "      <td>3280.95</td>\n",
       "      <td>4961.45</td>\n",
       "    </tr>\n",
       "    <tr>\n",
       "      <th>3</th>\n",
       "      <td>6</td>\n",
       "      <td>9.8</td>\n",
       "      <td>300.6</td>\n",
       "      <td>716.5</td>\n",
       "      <td>58.8</td>\n",
       "      <td>2945.88</td>\n",
       "      <td>3662.38</td>\n",
       "    </tr>\n",
       "    <tr>\n",
       "      <th>4</th>\n",
       "      <td>2</td>\n",
       "      <td>11.0</td>\n",
       "      <td>170.0</td>\n",
       "      <td>552.9</td>\n",
       "      <td>22.0</td>\n",
       "      <td>1870.00</td>\n",
       "      <td>2422.90</td>\n",
       "    </tr>\n",
       "    <tr>\n",
       "      <th>5</th>\n",
       "      <td>1</td>\n",
       "      <td>7.0</td>\n",
       "      <td>278.3</td>\n",
       "      <td>668.3</td>\n",
       "      <td>7.0</td>\n",
       "      <td>1948.10</td>\n",
       "      <td>2616.40</td>\n",
       "    </tr>\n",
       "    <tr>\n",
       "      <th>...</th>\n",
       "      <td>...</td>\n",
       "      <td>...</td>\n",
       "      <td>...</td>\n",
       "      <td>...</td>\n",
       "      <td>...</td>\n",
       "      <td>...</td>\n",
       "      <td>...</td>\n",
       "    </tr>\n",
       "    <tr>\n",
       "      <th>267</th>\n",
       "      <td>14</td>\n",
       "      <td>9.1</td>\n",
       "      <td>212.0</td>\n",
       "      <td>564.1</td>\n",
       "      <td>127.4</td>\n",
       "      <td>1929.20</td>\n",
       "      <td>2493.30</td>\n",
       "    </tr>\n",
       "    <tr>\n",
       "      <th>268</th>\n",
       "      <td>1</td>\n",
       "      <td>1.0</td>\n",
       "      <td>1405.0</td>\n",
       "      <td>0.0</td>\n",
       "      <td>1.0</td>\n",
       "      <td>1405.00</td>\n",
       "      <td>1405.00</td>\n",
       "    </tr>\n",
       "    <tr>\n",
       "      <th>269</th>\n",
       "      <td>2</td>\n",
       "      <td>4.0</td>\n",
       "      <td>666.1</td>\n",
       "      <td>1064.6</td>\n",
       "      <td>8.0</td>\n",
       "      <td>2664.40</td>\n",
       "      <td>3729.00</td>\n",
       "    </tr>\n",
       "    <tr>\n",
       "      <th>270</th>\n",
       "      <td>1</td>\n",
       "      <td>1.0</td>\n",
       "      <td>1805.0</td>\n",
       "      <td>0.0</td>\n",
       "      <td>1.0</td>\n",
       "      <td>1805.00</td>\n",
       "      <td>1805.00</td>\n",
       "    </tr>\n",
       "    <tr>\n",
       "      <th>271</th>\n",
       "      <td>1</td>\n",
       "      <td>3.0</td>\n",
       "      <td>1213.3</td>\n",
       "      <td>638.5</td>\n",
       "      <td>3.0</td>\n",
       "      <td>3639.90</td>\n",
       "      <td>4278.40</td>\n",
       "    </tr>\n",
       "  </tbody>\n",
       "</table>\n",
       "<p>271 rows × 7 columns</p>\n",
       "</div>"
      ],
      "text/plain": [
       "     Unnamed: 1  Unnamed: 2  Unnamed: 3  Unnamed: 4  average_transcript  \\\n",
       "1             1         8.0       178.1       847.9                 8.0   \n",
       "2             2         1.5      2187.3      1680.5                 3.0   \n",
       "3             6         9.8       300.6       716.5                58.8   \n",
       "4             2        11.0       170.0       552.9                22.0   \n",
       "5             1         7.0       278.3       668.3                 7.0   \n",
       "..          ...         ...         ...         ...                 ...   \n",
       "267          14         9.1       212.0       564.1               127.4   \n",
       "268           1         1.0      1405.0         0.0                 1.0   \n",
       "269           2         4.0       666.1      1064.6                 8.0   \n",
       "270           1         1.0      1805.0         0.0                 1.0   \n",
       "271           1         3.0      1213.3       638.5                 3.0   \n",
       "\n",
       "     exon_total  exon_intron  \n",
       "1       1424.80      2272.70  \n",
       "2       3280.95      4961.45  \n",
       "3       2945.88      3662.38  \n",
       "4       1870.00      2422.90  \n",
       "5       1948.10      2616.40  \n",
       "..          ...          ...  \n",
       "267     1929.20      2493.30  \n",
       "268     1405.00      1405.00  \n",
       "269     2664.40      3729.00  \n",
       "270     1805.00      1805.00  \n",
       "271     3639.90      4278.40  \n",
       "\n",
       "[271 rows x 7 columns]"
      ]
     },
     "execution_count": 79,
     "metadata": {},
     "output_type": "execute_result"
    }
   ],
   "source": [
    "Barley_Supp_4_df_num"
   ]
  },
  {
   "cell_type": "code",
   "execution_count": 80,
   "id": "894b4d98",
   "metadata": {},
   "outputs": [
    {
     "data": {
      "text/plain": [
       "2988.369409594095"
      ]
     },
     "execution_count": 80,
     "metadata": {},
     "output_type": "execute_result"
    }
   ],
   "source": [
    "Barley_Supp_4_df_num['exon_intron'].mean()"
   ]
  },
  {
   "cell_type": "code",
   "execution_count": 81,
   "id": "8cf4ed7c",
   "metadata": {},
   "outputs": [
    {
     "data": {
      "text/plain": [
       "153.0"
      ]
     },
     "execution_count": 81,
     "metadata": {},
     "output_type": "execute_result"
    }
   ],
   "source": [
    "Barley_Supp_4_df_num['exon_intron'].min()"
   ]
  },
  {
   "cell_type": "code",
   "execution_count": 82,
   "id": "9a8e3dfe",
   "metadata": {},
   "outputs": [
    {
     "data": {
      "text/plain": [
       "9980.58"
      ]
     },
     "execution_count": 82,
     "metadata": {},
     "output_type": "execute_result"
    }
   ],
   "source": [
    "Barley_Supp_4_df_num['exon_intron'].max()"
   ]
  },
  {
   "cell_type": "markdown",
   "id": "811e28d4",
   "metadata": {},
   "source": [
    "The average gene length in bp for barley was calculated to be 2988bp, with a range of 153bp-9980bp. This result is less than what was published by authors. Again, they did not give any direction as to how this number was calculated and each N for the three species examined in this study, was less than what was recorded in this figure. For example Barley had a total of 271 data points from their Supplemental figure 4, while in this table they list they had 265 data points. There was no recording of why data points where excluded or which was were excluded."
   ]
  },
  {
   "cell_type": "code",
   "execution_count": 84,
   "id": "0947da17",
   "metadata": {},
   "outputs": [
    {
     "data": {
      "text/plain": [
       "2132.1409963099636"
      ]
     },
     "execution_count": 84,
     "metadata": {},
     "output_type": "execute_result"
    }
   ],
   "source": [
    "Barley_Supp_4_df_num['exon_total'].mean()"
   ]
  },
  {
   "cell_type": "code",
   "execution_count": 86,
   "id": "b724e9e7",
   "metadata": {},
   "outputs": [
    {
     "data": {
      "text/plain": [
       "153.0"
      ]
     },
     "execution_count": 86,
     "metadata": {},
     "output_type": "execute_result"
    }
   ],
   "source": [
    "Barley_Supp_4_df_num['exon_total'].min()"
   ]
  },
  {
   "cell_type": "code",
   "execution_count": 87,
   "id": "6b3df3c2",
   "metadata": {},
   "outputs": [
    {
     "data": {
      "text/plain": [
       "7113.48"
      ]
     },
     "execution_count": 87,
     "metadata": {},
     "output_type": "execute_result"
    }
   ],
   "source": [
    "Barley_Supp_4_df_num['exon_total'].max()"
   ]
  },
  {
   "cell_type": "markdown",
   "id": "35e97c7a",
   "metadata": {},
   "source": [
    "The average protein length Barley flowering genes was calculated to be 2132 aa with a range of 153-7113aa. Again, this number is different than what was calculated by the authors."
   ]
  },
  {
   "cell_type": "markdown",
   "id": "58dd6551",
   "metadata": {},
   "source": [
    "## Table Creation"
   ]
  },
  {
   "cell_type": "code",
   "execution_count": 3,
   "id": "8d693785",
   "metadata": {},
   "outputs": [],
   "source": [
    "from prettytable import PrettyTable"
   ]
  },
  {
   "cell_type": "code",
   "execution_count": 4,
   "id": "901b520b",
   "metadata": {},
   "outputs": [],
   "source": [
    "Table_3 = PrettyTable([\"Structural Characteristics\", \"AT\", \"(n=204)\", \"TA\", \"(n=833)\", \"HV\", \"(n=271)\"])"
   ]
  },
  {
   "cell_type": "code",
   "execution_count": 5,
   "id": "59e52579",
   "metadata": {},
   "outputs": [],
   "source": [
    "Table_3.add_row([\"***\", \"Mean\", \"Range\", \"Mean\", \"Range\", \"Mean\", \"Range\"])"
   ]
  },
  {
   "cell_type": "code",
   "execution_count": 6,
   "id": "a7d99580",
   "metadata": {},
   "outputs": [],
   "source": [
    "Table_3.add_row([\"Transcripts per gene\", \"1.4\", \"1-5\", \"1\", \"1-1\", \"2.8\", \"1-27\"])"
   ]
  },
  {
   "cell_type": "code",
   "execution_count": 7,
   "id": "f0d4dc3a",
   "metadata": {},
   "outputs": [],
   "source": [
    "Table_3.add_row([\"Gene Length(bp)\", \"2297\", \"79-11046\", \"2675\", \"158-12689\", \"2998\", \"153-9980\"]) "
   ]
  },
  {
   "cell_type": "code",
   "execution_count": 8,
   "id": "7e5785d7",
   "metadata": {},
   "outputs": [],
   "source": [
    "Table_3.add_row([\"Exons per gene\", \"6.5\", \"1-48\", \"5.7\", \"1-42\", \"4.5\", \"1-20\"])"
   ]
  },
  {
   "cell_type": "code",
   "execution_count": 9,
   "id": "1aa11760",
   "metadata": {},
   "outputs": [],
   "source": [
    "Table_3.add_row([\"Exon size(bp)\", \"466\", \"79-4165\", \"565\", \"42-5550\", \"878\", \"87-5211\"])"
   ]
  },
  {
   "cell_type": "code",
   "execution_count": 10,
   "id": "0b77d83e",
   "metadata": {},
   "outputs": [],
   "source": [
    "Table_3.add_row([\"Intron size(bp)\", \"468\", \"78-2316\", \"924\", \"58-7291\", \"856\", \"44-5912\"])"
   ]
  },
  {
   "cell_type": "code",
   "execution_count": 11,
   "id": "2856a5de",
   "metadata": {},
   "outputs": [],
   "source": [
    "Table_3.add_row([\"Protein length (aa)\", \"1828\", \"79-10872\", \"1751\", \"106-10363\", \"2132\", \"153-7133\"]) "
   ]
  },
  {
   "cell_type": "code",
   "execution_count": 12,
   "id": "d28e5ea2",
   "metadata": {},
   "outputs": [
    {
     "data": {
      "text/html": [
       "<table>\n",
       "    <thead>\n",
       "        <tr>\n",
       "            <th>Structural Characteristics</th>\n",
       "            <th>AT</th>\n",
       "            <th>(n=204)</th>\n",
       "            <th>TA</th>\n",
       "            <th>(n=833)</th>\n",
       "            <th>HV</th>\n",
       "            <th>(n=271)</th>\n",
       "        </tr>\n",
       "    </thead>\n",
       "    <tbody>\n",
       "        <tr>\n",
       "            <td>***</td>\n",
       "            <td>Mean</td>\n",
       "            <td>Range</td>\n",
       "            <td>Mean</td>\n",
       "            <td>Range</td>\n",
       "            <td>Mean</td>\n",
       "            <td>Range</td>\n",
       "        </tr>\n",
       "        <tr>\n",
       "            <td>Transcripts per gene</td>\n",
       "            <td>1.4</td>\n",
       "            <td>1-5</td>\n",
       "            <td>1</td>\n",
       "            <td>1-1</td>\n",
       "            <td>2.8</td>\n",
       "            <td>1-27</td>\n",
       "        </tr>\n",
       "        <tr>\n",
       "            <td>Gene Length(bp)</td>\n",
       "            <td>2297</td>\n",
       "            <td>79-11046</td>\n",
       "            <td>2675</td>\n",
       "            <td>158-12689</td>\n",
       "            <td>2998</td>\n",
       "            <td>153-9980</td>\n",
       "        </tr>\n",
       "        <tr>\n",
       "            <td>Exons per gene</td>\n",
       "            <td>6.5</td>\n",
       "            <td>1-48</td>\n",
       "            <td>5.7</td>\n",
       "            <td>1-42</td>\n",
       "            <td>4.5</td>\n",
       "            <td>1-20</td>\n",
       "        </tr>\n",
       "        <tr>\n",
       "            <td>Exon size(bp)</td>\n",
       "            <td>466</td>\n",
       "            <td>79-4165</td>\n",
       "            <td>565</td>\n",
       "            <td>42-5550</td>\n",
       "            <td>878</td>\n",
       "            <td>87-5211</td>\n",
       "        </tr>\n",
       "        <tr>\n",
       "            <td>Intron size(bp)</td>\n",
       "            <td>468</td>\n",
       "            <td>78-2316</td>\n",
       "            <td>924</td>\n",
       "            <td>58-7291</td>\n",
       "            <td>856</td>\n",
       "            <td>44-5912</td>\n",
       "        </tr>\n",
       "        <tr>\n",
       "            <td>Protein length (aa)</td>\n",
       "            <td>1828</td>\n",
       "            <td>79-10872</td>\n",
       "            <td>1751</td>\n",
       "            <td>106-10363</td>\n",
       "            <td>2132</td>\n",
       "            <td>153-7133</td>\n",
       "        </tr>\n",
       "    </tbody>\n",
       "</table>"
      ],
      "text/plain": [
       "+----------------------------+------+----------+------+-----------+------+----------+\n",
       "| Structural Characteristics |  AT  | (n=204)  |  TA  |  (n=833)  |  HV  | (n=271)  |\n",
       "+----------------------------+------+----------+------+-----------+------+----------+\n",
       "|            ***             | Mean |  Range   | Mean |   Range   | Mean |  Range   |\n",
       "|    Transcripts per gene    | 1.4  |   1-5    |  1   |    1-1    | 2.8  |   1-27   |\n",
       "|      Gene Length(bp)       | 2297 | 79-11046 | 2675 | 158-12689 | 2998 | 153-9980 |\n",
       "|       Exons per gene       | 6.5  |   1-48   | 5.7  |    1-42   | 4.5  |   1-20   |\n",
       "|       Exon size(bp)        | 466  | 79-4165  | 565  |  42-5550  | 878  | 87-5211  |\n",
       "|      Intron size(bp)       | 468  | 78-2316  | 924  |  58-7291  | 856  | 44-5912  |\n",
       "|    Protein length (aa)     | 1828 | 79-10872 | 1751 | 106-10363 | 2132 | 153-7133 |\n",
       "+----------------------------+------+----------+------+-----------+------+----------+"
      ]
     },
     "execution_count": 12,
     "metadata": {},
     "output_type": "execute_result"
    }
   ],
   "source": [
    "Table_3"
   ]
  },
  {
   "cell_type": "code",
   "execution_count": 13,
   "id": "92d5694a",
   "metadata": {},
   "outputs": [],
   "source": [
    "Table3_export = Table_3.get_string()"
   ]
  },
  {
   "cell_type": "code",
   "execution_count": 16,
   "id": "e86037f4",
   "metadata": {},
   "outputs": [],
   "source": [
    "with open('Table_3.txt', 'w') as f: f.write(Table3_export)"
   ]
  },
  {
   "cell_type": "markdown",
   "id": "6f4477de",
   "metadata": {},
   "source": [
    "Table 3 has now been exported"
   ]
  },
  {
   "cell_type": "code",
   "execution_count": null,
   "id": "51a5b2b3",
   "metadata": {},
   "outputs": [],
   "source": []
  }
 ],
 "metadata": {
  "kernelspec": {
   "display_name": "Python 3 (ipykernel)",
   "language": "python",
   "name": "python3"
  },
  "language_info": {
   "codemirror_mode": {
    "name": "ipython",
    "version": 3
   },
   "file_extension": ".py",
   "mimetype": "text/x-python",
   "name": "python",
   "nbconvert_exporter": "python",
   "pygments_lexer": "ipython3",
   "version": "3.9.7"
  }
 },
 "nbformat": 4,
 "nbformat_minor": 5
}
